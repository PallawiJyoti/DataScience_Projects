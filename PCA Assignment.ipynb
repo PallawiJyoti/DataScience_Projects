{
 "cells": [
  {
   "cell_type": "markdown",
   "metadata": {},
   "source": [
    "# Clustering & PCA  Assignment:"
   ]
  },
  {
   "cell_type": "code",
   "execution_count": 3,
   "metadata": {},
   "outputs": [],
   "source": [
    "import pandas as pd\n",
    "import numpy as np\n",
    "import seaborn as sns\n",
    "import matplotlib.pyplot as plt\n",
    "\n",
    "# To Scale our data\n",
    "from sklearn.preprocessing import scale\n",
    "\n",
    "# To perform KMeans clustering \n",
    "from sklearn.cluster import KMeans\n",
    "\n",
    "# To perform Hierarchical clustering\n",
    "from scipy.cluster.hierarchy import linkage\n",
    "from scipy.cluster.hierarchy import dendrogram\n",
    "from scipy.cluster.hierarchy import cut_tree"
   ]
  },
  {
   "cell_type": "markdown",
   "metadata": {},
   "source": [
    "### Data Cleaning and Inspection"
   ]
  },
  {
   "cell_type": "code",
   "execution_count": 4,
   "metadata": {},
   "outputs": [],
   "source": [
    "df=pd.read_csv(\"C:\\Users\\engel\\Desktop\\UpGrad\\Predictive_analysis\\Country-data.csv\")"
   ]
  },
  {
   "cell_type": "code",
   "execution_count": 7,
   "metadata": {},
   "outputs": [
    {
     "name": "stdout",
     "output_type": "stream",
     "text": [
      "<class 'pandas.core.frame.DataFrame'>\n",
      "RangeIndex: 167 entries, 0 to 166\n",
      "Data columns (total 10 columns):\n",
      "country       167 non-null object\n",
      "child_mort    167 non-null float64\n",
      "exports       167 non-null float64\n",
      "health        167 non-null float64\n",
      "imports       167 non-null float64\n",
      "income        167 non-null int64\n",
      "inflation     167 non-null float64\n",
      "life_expec    167 non-null float64\n",
      "total_fer     167 non-null float64\n",
      "gdpp          167 non-null int64\n",
      "dtypes: float64(7), int64(2), object(1)\n",
      "memory usage: 13.1+ KB\n"
     ]
    }
   ],
   "source": [
    "df.info()"
   ]
  },
  {
   "cell_type": "markdown",
   "metadata": {},
   "source": [
    "#  \n",
    "We observed that there are  no null values in the dataset.\n",
    "<br>\n",
    "We observe that there is sudden spike in the data values after 99th percentile. Hence, removing the highest values of ‘GDPP’ , ’Income’ and ‘Exports’ which is usually high for developed countries.\n",
    "<br>\n",
    "Also,we are not removing the higher values of ‘Child Mortality’ and ‘Inflation’ because these can be high for both\n",
    "Developed and Underdeveloped countries\n",
    "\\n\n",
    "<br>\n",
    "Since we have to determine poor countries, we are not removing the lower values in the dataset wherever applicable."
   ]
  },
  {
   "cell_type": "code",
   "execution_count": 9,
   "metadata": {},
   "outputs": [
    {
     "data": {
      "text/html": [
       "<div>\n",
       "<style scoped>\n",
       "    .dataframe tbody tr th:only-of-type {\n",
       "        vertical-align: middle;\n",
       "    }\n",
       "\n",
       "    .dataframe tbody tr th {\n",
       "        vertical-align: top;\n",
       "    }\n",
       "\n",
       "    .dataframe thead th {\n",
       "        text-align: right;\n",
       "    }\n",
       "</style>\n",
       "<table border=\"1\" class=\"dataframe\">\n",
       "  <thead>\n",
       "    <tr style=\"text-align: right;\">\n",
       "      <th></th>\n",
       "      <th>child_mort</th>\n",
       "      <th>exports</th>\n",
       "      <th>health</th>\n",
       "      <th>imports</th>\n",
       "      <th>income</th>\n",
       "      <th>inflation</th>\n",
       "      <th>life_expec</th>\n",
       "      <th>total_fer</th>\n",
       "      <th>gdpp</th>\n",
       "    </tr>\n",
       "  </thead>\n",
       "  <tbody>\n",
       "    <tr>\n",
       "      <th>count</th>\n",
       "      <td>162.000000</td>\n",
       "      <td>162.000000</td>\n",
       "      <td>162.000000</td>\n",
       "      <td>162.000000</td>\n",
       "      <td>162.00000</td>\n",
       "      <td>162.000000</td>\n",
       "      <td>162.000000</td>\n",
       "      <td>162.000000</td>\n",
       "      <td>162.000000</td>\n",
       "    </tr>\n",
       "    <tr>\n",
       "      <th>mean</th>\n",
       "      <td>39.299383</td>\n",
       "      <td>38.488883</td>\n",
       "      <td>6.830556</td>\n",
       "      <td>45.113370</td>\n",
       "      <td>15331.87037</td>\n",
       "      <td>7.896494</td>\n",
       "      <td>70.234568</td>\n",
       "      <td>2.988580</td>\n",
       "      <td>11322.308642</td>\n",
       "    </tr>\n",
       "    <tr>\n",
       "      <th>std</th>\n",
       "      <td>40.510812</td>\n",
       "      <td>20.472602</td>\n",
       "      <td>2.739030</td>\n",
       "      <td>19.181254</td>\n",
       "      <td>15521.11609</td>\n",
       "      <td>10.704519</td>\n",
       "      <td>8.834231</td>\n",
       "      <td>1.517809</td>\n",
       "      <td>15113.158525</td>\n",
       "    </tr>\n",
       "    <tr>\n",
       "      <th>min</th>\n",
       "      <td>2.600000</td>\n",
       "      <td>0.109000</td>\n",
       "      <td>1.970000</td>\n",
       "      <td>0.065900</td>\n",
       "      <td>609.00000</td>\n",
       "      <td>-4.210000</td>\n",
       "      <td>32.100000</td>\n",
       "      <td>1.230000</td>\n",
       "      <td>231.000000</td>\n",
       "    </tr>\n",
       "    <tr>\n",
       "      <th>5%</th>\n",
       "      <td>3.900000</td>\n",
       "      <td>12.020000</td>\n",
       "      <td>2.840500</td>\n",
       "      <td>17.855000</td>\n",
       "      <td>1210.50000</td>\n",
       "      <td>0.241950</td>\n",
       "      <td>55.630000</td>\n",
       "      <td>1.390500</td>\n",
       "      <td>460.150000</td>\n",
       "    </tr>\n",
       "    <tr>\n",
       "      <th>25%</th>\n",
       "      <td>9.025000</td>\n",
       "      <td>23.575000</td>\n",
       "      <td>4.940000</td>\n",
       "      <td>30.475000</td>\n",
       "      <td>3325.00000</td>\n",
       "      <td>1.790000</td>\n",
       "      <td>64.775000</td>\n",
       "      <td>1.845000</td>\n",
       "      <td>1310.000000</td>\n",
       "    </tr>\n",
       "    <tr>\n",
       "      <th>50%</th>\n",
       "      <td>20.050000</td>\n",
       "      <td>34.900000</td>\n",
       "      <td>6.270000</td>\n",
       "      <td>43.250000</td>\n",
       "      <td>9925.00000</td>\n",
       "      <td>5.415000</td>\n",
       "      <td>72.650000</td>\n",
       "      <td>2.475000</td>\n",
       "      <td>4550.000000</td>\n",
       "    </tr>\n",
       "    <tr>\n",
       "      <th>75%</th>\n",
       "      <td>62.200000</td>\n",
       "      <td>50.675000</td>\n",
       "      <td>8.537500</td>\n",
       "      <td>57.950000</td>\n",
       "      <td>21100.00000</td>\n",
       "      <td>11.050000</td>\n",
       "      <td>76.575000</td>\n",
       "      <td>4.037500</td>\n",
       "      <td>12825.000000</td>\n",
       "    </tr>\n",
       "    <tr>\n",
       "      <th>90%</th>\n",
       "      <td>100.870000</td>\n",
       "      <td>67.330000</td>\n",
       "      <td>10.990000</td>\n",
       "      <td>70.530000</td>\n",
       "      <td>40340.00000</td>\n",
       "      <td>16.690000</td>\n",
       "      <td>80.280000</td>\n",
       "      <td>5.337000</td>\n",
       "      <td>38230.000000</td>\n",
       "    </tr>\n",
       "    <tr>\n",
       "      <th>95%</th>\n",
       "      <td>116.000000</td>\n",
       "      <td>76.395000</td>\n",
       "      <td>11.595000</td>\n",
       "      <td>79.860000</td>\n",
       "      <td>45235.00000</td>\n",
       "      <td>20.895000</td>\n",
       "      <td>81.395000</td>\n",
       "      <td>5.868500</td>\n",
       "      <td>46865.000000</td>\n",
       "    </tr>\n",
       "    <tr>\n",
       "      <th>97%</th>\n",
       "      <td>131.190000</td>\n",
       "      <td>82.361000</td>\n",
       "      <td>11.817000</td>\n",
       "      <td>81.285000</td>\n",
       "      <td>46329.00000</td>\n",
       "      <td>23.821000</td>\n",
       "      <td>81.734000</td>\n",
       "      <td>6.235100</td>\n",
       "      <td>48972.000000</td>\n",
       "    </tr>\n",
       "    <tr>\n",
       "      <th>99%</th>\n",
       "      <td>153.900000</td>\n",
       "      <td>89.591000</td>\n",
       "      <td>13.529000</td>\n",
       "      <td>95.876000</td>\n",
       "      <td>64464.00000</td>\n",
       "      <td>41.813000</td>\n",
       "      <td>82.078000</td>\n",
       "      <td>6.565600</td>\n",
       "      <td>54401.000000</td>\n",
       "    </tr>\n",
       "    <tr>\n",
       "      <th>100%</th>\n",
       "      <td>208.000000</td>\n",
       "      <td>103.000000</td>\n",
       "      <td>17.900000</td>\n",
       "      <td>108.000000</td>\n",
       "      <td>80600.00000</td>\n",
       "      <td>104.000000</td>\n",
       "      <td>82.800000</td>\n",
       "      <td>7.490000</td>\n",
       "      <td>74600.000000</td>\n",
       "    </tr>\n",
       "    <tr>\n",
       "      <th>max</th>\n",
       "      <td>208.000000</td>\n",
       "      <td>103.000000</td>\n",
       "      <td>17.900000</td>\n",
       "      <td>108.000000</td>\n",
       "      <td>80600.00000</td>\n",
       "      <td>104.000000</td>\n",
       "      <td>82.800000</td>\n",
       "      <td>7.490000</td>\n",
       "      <td>74600.000000</td>\n",
       "    </tr>\n",
       "  </tbody>\n",
       "</table>\n",
       "</div>"
      ],
      "text/plain": [
       "       child_mort     exports      health     imports       income  \\\n",
       "count  162.000000  162.000000  162.000000  162.000000    162.00000   \n",
       "mean    39.299383   38.488883    6.830556   45.113370  15331.87037   \n",
       "std     40.510812   20.472602    2.739030   19.181254  15521.11609   \n",
       "min      2.600000    0.109000    1.970000    0.065900    609.00000   \n",
       "5%       3.900000   12.020000    2.840500   17.855000   1210.50000   \n",
       "25%      9.025000   23.575000    4.940000   30.475000   3325.00000   \n",
       "50%     20.050000   34.900000    6.270000   43.250000   9925.00000   \n",
       "75%     62.200000   50.675000    8.537500   57.950000  21100.00000   \n",
       "90%    100.870000   67.330000   10.990000   70.530000  40340.00000   \n",
       "95%    116.000000   76.395000   11.595000   79.860000  45235.00000   \n",
       "97%    131.190000   82.361000   11.817000   81.285000  46329.00000   \n",
       "99%    153.900000   89.591000   13.529000   95.876000  64464.00000   \n",
       "100%   208.000000  103.000000   17.900000  108.000000  80600.00000   \n",
       "max    208.000000  103.000000   17.900000  108.000000  80600.00000   \n",
       "\n",
       "        inflation  life_expec   total_fer          gdpp  \n",
       "count  162.000000  162.000000  162.000000    162.000000  \n",
       "mean     7.896494   70.234568    2.988580  11322.308642  \n",
       "std     10.704519    8.834231    1.517809  15113.158525  \n",
       "min     -4.210000   32.100000    1.230000    231.000000  \n",
       "5%       0.241950   55.630000    1.390500    460.150000  \n",
       "25%      1.790000   64.775000    1.845000   1310.000000  \n",
       "50%      5.415000   72.650000    2.475000   4550.000000  \n",
       "75%     11.050000   76.575000    4.037500  12825.000000  \n",
       "90%     16.690000   80.280000    5.337000  38230.000000  \n",
       "95%     20.895000   81.395000    5.868500  46865.000000  \n",
       "97%     23.821000   81.734000    6.235100  48972.000000  \n",
       "99%     41.813000   82.078000    6.565600  54401.000000  \n",
       "100%   104.000000   82.800000    7.490000  74600.000000  \n",
       "max    104.000000   82.800000    7.490000  74600.000000  "
      ]
     },
     "execution_count": 9,
     "metadata": {},
     "output_type": "execute_result"
    }
   ],
   "source": [
    "df=df.loc[df['gdpp']<=80000]\n",
    "df=df.loc[df['income']<=100000]\n",
    "df=df.loc[df['exports']<=125]\n",
    "df.describe(percentiles=[0.05,0.25,0.50,0.75,0.9,0.95,0.97,0.99,1])"
   ]
  },
  {
   "cell_type": "markdown",
   "metadata": {},
   "source": [
    "print(df.shape)"
   ]
  },
  {
   "cell_type": "markdown",
   "metadata": {},
   "source": [
    "### Univariate Analysis"
   ]
  },
  {
   "cell_type": "code",
   "execution_count": 10,
   "metadata": {},
   "outputs": [
    {
     "data": {
      "text/plain": [
       "Text(0.5,1,'GDPP')"
      ]
     },
     "execution_count": 10,
     "metadata": {},
     "output_type": "execute_result"
    },
    {
     "data": {
      "image/png": "[encoded data removed]",
      "text/plain": [
       "<Figure size 1440x1080 with 9 Axes>"
      ]
     },
     "metadata": {
      "needs_background": "light"
     },
     "output_type": "display_data"
    }
   ],
   "source": [
    "plt.figure(figsize=(20,15))\n",
    "plt.subplot(331)\n",
    "plt.boxplot(df['child_mort'])\n",
    "plt.title(\"Child Mortality\")\n",
    "\n",
    "plt.subplot(332)\n",
    "plt.boxplot(df['exports'])\n",
    "plt.title(\"Exports\")\n",
    "\n",
    "plt.subplot(333)\n",
    "plt.boxplot(df['imports'])\n",
    "plt.title(\"Imports\")\n",
    "\n",
    "plt.subplot(334)\n",
    "plt.boxplot(df['health'])\n",
    "plt.title(\"Health\")\n",
    "\n",
    "plt.subplot(335)\n",
    "plt.boxplot(df['income'])\n",
    "plt.title(\"Income\")\n",
    "\n",
    "plt.subplot(336)\n",
    "plt.boxplot(df['inflation'])\n",
    "plt.title(\"Inflation\")\n",
    "\n",
    "plt.subplot(337)\n",
    "plt.boxplot(df['life_expec'])\n",
    "plt.title(\"Life Expectancy\")\n",
    "\n",
    "plt.subplot(338)\n",
    "plt.boxplot(df['total_fer'])\n",
    "plt.title(\"Total Fertility\")\n",
    "\n",
    "plt.subplot(339)\n",
    "plt.boxplot(df['gdpp'])\n",
    "plt.title(\"GDPP\")"
   ]
  },
  {
   "cell_type": "markdown",
   "metadata": {},
   "source": [
    "###  \n",
    "We do not observe any abnormility in the box plot. i.e there doesn't seem to be any more outlier present.\n",
    "Hence, we can proceed ahead with the dataset"
   ]
  },
  {
   "cell_type": "markdown",
   "metadata": {},
   "source": [
    "### Bivariate Analysis"
   ]
  },
  {
   "cell_type": "code",
   "execution_count": 11,
   "metadata": {},
   "outputs": [
    {
     "data": {
      "image/png": "[encoded data removed]",
      "text/plain": [
       "<Figure size 1080x1080 with 2 Axes>"
      ]
     },
     "metadata": {
      "needs_background": "light"
     },
     "output_type": "display_data"
    }
   ],
   "source": [
    "plt.figure(figsize=(15,15))\n",
    "sns.heatmap(df.corr(), vmax=.8, square=True, annot=True, fmt='.2f')\n",
    "plt.show()"
   ]
  },
  {
   "cell_type": "markdown",
   "metadata": {},
   "source": [
    "#  \n",
    "GDPP, Life Expectancy, Health is high for countries with high income.<br>\n",
    "Child Mortality is high with countries having high Fertility Rate.<br>\n",
    "Also, we observe that inflation is high for countries with high fertility rate and high mortality rate.<br>\n",
    "Inflation, Fertility Rate ,Child mortality is high for countries having high Income and high GDPP.<br>\n",
    "Also, life expectancy is low when fertility rate is high."
   ]
  },
  {
   "cell_type": "markdown",
   "metadata": {},
   "source": [
    "### Principle Component Analysis"
   ]
  },
  {
   "cell_type": "code",
   "execution_count": 12,
   "metadata": {},
   "outputs": [],
   "source": [
    "#Improting the PCA module\n",
    "from sklearn.decomposition import PCA\n",
    "pca = PCA(svd_solver='randomized', random_state=42)"
   ]
  },
  {
   "cell_type": "code",
   "execution_count": 13,
   "metadata": {},
   "outputs": [
    {
     "data": {
      "text/plain": [
       "PCA(copy=True, iterated_power='auto', n_components=None, random_state=42,\n",
       "  svd_solver='randomized', tol=0.0, whiten=False)"
      ]
     },
     "execution_count": 13,
     "metadata": {},
     "output_type": "execute_result"
    }
   ],
   "source": [
    "#Doing the PCA on the train data\n",
    "df1=df.drop(columns=['country'])\n",
    "pca.fit(df1)"
   ]
  },
  {
   "cell_type": "code",
   "execution_count": 14,
   "metadata": {},
   "outputs": [
    {
     "data": {
      "text/html": [
       "<div>\n",
       "<style scoped>\n",
       "    .dataframe tbody tr th:only-of-type {\n",
       "        vertical-align: middle;\n",
       "    }\n",
       "\n",
       "    .dataframe tbody tr th {\n",
       "        vertical-align: top;\n",
       "    }\n",
       "\n",
       "    .dataframe thead th {\n",
       "        text-align: right;\n",
       "    }\n",
       "</style>\n",
       "<table border=\"1\" class=\"dataframe\">\n",
       "  <thead>\n",
       "    <tr style=\"text-align: right;\">\n",
       "      <th></th>\n",
       "      <th>0</th>\n",
       "      <th>1</th>\n",
       "      <th>2</th>\n",
       "      <th>3</th>\n",
       "      <th>4</th>\n",
       "      <th>5</th>\n",
       "      <th>6</th>\n",
       "      <th>7</th>\n",
       "      <th>8</th>\n",
       "    </tr>\n",
       "  </thead>\n",
       "  <tbody>\n",
       "    <tr>\n",
       "      <th>0</th>\n",
       "      <td>-0.001066</td>\n",
       "      <td>0.000366</td>\n",
       "      <td>0.000045</td>\n",
       "      <td>-0.000061</td>\n",
       "      <td>0.717584</td>\n",
       "      <td>-0.000101</td>\n",
       "      <td>0.000274</td>\n",
       "      <td>-0.000038</td>\n",
       "      <td>0.696471</td>\n",
       "    </tr>\n",
       "    <tr>\n",
       "      <th>1</th>\n",
       "      <td>-0.001056</td>\n",
       "      <td>0.001263</td>\n",
       "      <td>-0.000245</td>\n",
       "      <td>0.000047</td>\n",
       "      <td>0.696469</td>\n",
       "      <td>0.000412</td>\n",
       "      <td>0.000089</td>\n",
       "      <td>-0.000042</td>\n",
       "      <td>-0.717584</td>\n",
       "    </tr>\n",
       "    <tr>\n",
       "      <th>2</th>\n",
       "      <td>0.964512</td>\n",
       "      <td>-0.114081</td>\n",
       "      <td>-0.007643</td>\n",
       "      <td>-0.149873</td>\n",
       "      <td>0.001598</td>\n",
       "      <td>0.089154</td>\n",
       "      <td>-0.159357</td>\n",
       "      <td>0.028910</td>\n",
       "      <td>-0.000046</td>\n",
       "    </tr>\n",
       "    <tr>\n",
       "      <th>3</th>\n",
       "      <td>0.186502</td>\n",
       "      <td>0.656309</td>\n",
       "      <td>-0.000002</td>\n",
       "      <td>0.724335</td>\n",
       "      <td>-0.000429</td>\n",
       "      <td>-0.075621</td>\n",
       "      <td>-0.063893</td>\n",
       "      <td>0.003713</td>\n",
       "      <td>0.000460</td>\n",
       "    </tr>\n",
       "    <tr>\n",
       "      <th>4</th>\n",
       "      <td>-0.048472</td>\n",
       "      <td>0.629055</td>\n",
       "      <td>-0.078146</td>\n",
       "      <td>-0.490762</td>\n",
       "      <td>-0.000949</td>\n",
       "      <td>0.593212</td>\n",
       "      <td>0.054938</td>\n",
       "      <td>0.008108</td>\n",
       "      <td>0.000599</td>\n",
       "    </tr>\n",
       "    <tr>\n",
       "      <th>5</th>\n",
       "      <td>-0.051604</td>\n",
       "      <td>-0.393572</td>\n",
       "      <td>0.062533</td>\n",
       "      <td>0.451932</td>\n",
       "      <td>0.000219</td>\n",
       "      <td>0.796311</td>\n",
       "      <td>-0.012166</td>\n",
       "      <td>0.005209</td>\n",
       "      <td>0.000059</td>\n",
       "    </tr>\n",
       "    <tr>\n",
       "      <th>6</th>\n",
       "      <td>-0.170019</td>\n",
       "      <td>0.018993</td>\n",
       "      <td>0.038878</td>\n",
       "      <td>-0.058662</td>\n",
       "      <td>-0.000021</td>\n",
       "      <td>0.013629</td>\n",
       "      <td>-0.982633</td>\n",
       "      <td>-0.005098</td>\n",
       "      <td>0.000132</td>\n",
       "    </tr>\n",
       "    <tr>\n",
       "      <th>7</th>\n",
       "      <td>0.013871</td>\n",
       "      <td>0.072604</td>\n",
       "      <td>0.994106</td>\n",
       "      <td>-0.065892</td>\n",
       "      <td>0.000064</td>\n",
       "      <td>-0.003161</td>\n",
       "      <td>0.042288</td>\n",
       "      <td>-0.012199</td>\n",
       "      <td>-0.000171</td>\n",
       "    </tr>\n",
       "    <tr>\n",
       "      <th>8</th>\n",
       "      <td>0.028628</td>\n",
       "      <td>0.001207</td>\n",
       "      <td>-0.012862</td>\n",
       "      <td>-0.002166</td>\n",
       "      <td>-0.000019</td>\n",
       "      <td>0.011230</td>\n",
       "      <td>0.000031</td>\n",
       "      <td>-0.999441</td>\n",
       "      <td>0.000011</td>\n",
       "    </tr>\n",
       "  </tbody>\n",
       "</table>\n",
       "</div>"
      ],
      "text/plain": [
       "          0         1         2         3         4         5         6  \\\n",
       "0 -0.001066  0.000366  0.000045 -0.000061  0.717584 -0.000101  0.000274   \n",
       "1 -0.001056  0.001263 -0.000245  0.000047  0.696469  0.000412  0.000089   \n",
       "2  0.964512 -0.114081 -0.007643 -0.149873  0.001598  0.089154 -0.159357   \n",
       "3  0.186502  0.656309 -0.000002  0.724335 -0.000429 -0.075621 -0.063893   \n",
       "4 -0.048472  0.629055 -0.078146 -0.490762 -0.000949  0.593212  0.054938   \n",
       "5 -0.051604 -0.393572  0.062533  0.451932  0.000219  0.796311 -0.012166   \n",
       "6 -0.170019  0.018993  0.038878 -0.058662 -0.000021  0.013629 -0.982633   \n",
       "7  0.013871  0.072604  0.994106 -0.065892  0.000064 -0.003161  0.042288   \n",
       "8  0.028628  0.001207 -0.012862 -0.002166 -0.000019  0.011230  0.000031   \n",
       "\n",
       "          7         8  \n",
       "0 -0.000038  0.696471  \n",
       "1 -0.000042 -0.717584  \n",
       "2  0.028910 -0.000046  \n",
       "3  0.003713  0.000460  \n",
       "4  0.008108  0.000599  \n",
       "5  0.005209  0.000059  \n",
       "6 -0.005098  0.000132  \n",
       "7 -0.012199 -0.000171  \n",
       "8 -0.999441  0.000011  "
      ]
     },
     "execution_count": 14,
     "metadata": {},
     "output_type": "execute_result"
    }
   ],
   "source": [
    "comp=pd.DataFrame(pca.components_)\n",
    "comp"
   ]
  },
  {
   "cell_type": "code",
   "execution_count": 15,
   "metadata": {},
   "outputs": [
    {
     "data": {
      "text/html": [
       "<div>\n",
       "<style scoped>\n",
       "    .dataframe tbody tr th:only-of-type {\n",
       "        vertical-align: middle;\n",
       "    }\n",
       "\n",
       "    .dataframe tbody tr th {\n",
       "        vertical-align: top;\n",
       "    }\n",
       "\n",
       "    .dataframe thead th {\n",
       "        text-align: right;\n",
       "    }\n",
       "</style>\n",
       "<table border=\"1\" class=\"dataframe\">\n",
       "  <thead>\n",
       "    <tr style=\"text-align: right;\">\n",
       "      <th></th>\n",
       "      <th>PC1</th>\n",
       "      <th>PC2</th>\n",
       "      <th>PC3</th>\n",
       "      <th>Feature</th>\n",
       "    </tr>\n",
       "  </thead>\n",
       "  <tbody>\n",
       "    <tr>\n",
       "      <th>0</th>\n",
       "      <td>-0.001066</td>\n",
       "      <td>-0.001056</td>\n",
       "      <td>0.964512</td>\n",
       "      <td>child_mort</td>\n",
       "    </tr>\n",
       "    <tr>\n",
       "      <th>1</th>\n",
       "      <td>0.000366</td>\n",
       "      <td>0.001263</td>\n",
       "      <td>-0.114081</td>\n",
       "      <td>exports</td>\n",
       "    </tr>\n",
       "    <tr>\n",
       "      <th>2</th>\n",
       "      <td>0.000045</td>\n",
       "      <td>-0.000245</td>\n",
       "      <td>-0.007643</td>\n",
       "      <td>health</td>\n",
       "    </tr>\n",
       "    <tr>\n",
       "      <th>3</th>\n",
       "      <td>-0.000061</td>\n",
       "      <td>0.000047</td>\n",
       "      <td>-0.149873</td>\n",
       "      <td>imports</td>\n",
       "    </tr>\n",
       "    <tr>\n",
       "      <th>4</th>\n",
       "      <td>0.717584</td>\n",
       "      <td>0.696469</td>\n",
       "      <td>0.001598</td>\n",
       "      <td>income</td>\n",
       "    </tr>\n",
       "    <tr>\n",
       "      <th>5</th>\n",
       "      <td>-0.000101</td>\n",
       "      <td>0.000412</td>\n",
       "      <td>0.089154</td>\n",
       "      <td>inflation</td>\n",
       "    </tr>\n",
       "    <tr>\n",
       "      <th>6</th>\n",
       "      <td>0.000274</td>\n",
       "      <td>0.000089</td>\n",
       "      <td>-0.159357</td>\n",
       "      <td>life_expec</td>\n",
       "    </tr>\n",
       "    <tr>\n",
       "      <th>7</th>\n",
       "      <td>-0.000038</td>\n",
       "      <td>-0.000042</td>\n",
       "      <td>0.028910</td>\n",
       "      <td>total_fer</td>\n",
       "    </tr>\n",
       "    <tr>\n",
       "      <th>8</th>\n",
       "      <td>0.696471</td>\n",
       "      <td>-0.717584</td>\n",
       "      <td>-0.000046</td>\n",
       "      <td>gdpp</td>\n",
       "    </tr>\n",
       "  </tbody>\n",
       "</table>\n",
       "</div>"
      ],
      "text/plain": [
       "        PC1       PC2       PC3     Feature\n",
       "0 -0.001066 -0.001056  0.964512  child_mort\n",
       "1  0.000366  0.001263 -0.114081     exports\n",
       "2  0.000045 -0.000245 -0.007643      health\n",
       "3 -0.000061  0.000047 -0.149873     imports\n",
       "4  0.717584  0.696469  0.001598      income\n",
       "5 -0.000101  0.000412  0.089154   inflation\n",
       "6  0.000274  0.000089 -0.159357  life_expec\n",
       "7 -0.000038 -0.000042  0.028910   total_fer\n",
       "8  0.696471 -0.717584 -0.000046        gdpp"
      ]
     },
     "execution_count": 15,
     "metadata": {},
     "output_type": "execute_result"
    }
   ],
   "source": [
    "#Mapping the Principle Components to the orignal features and observing the weightage of eacg feature for each PC\n",
    "colnames = list(df1.columns)\n",
    "pcs_df = pd.DataFrame({'PC1':pca.components_[0],'PC2':pca.components_[1],'PC3':pca.components_[2],'Feature':colnames})\n",
    "pcs_df"
   ]
  },
  {
   "cell_type": "code",
   "execution_count": 16,
   "metadata": {},
   "outputs": [
    {
     "data": {
      "image/png": "[encoded data removed]",
      "text/plain": [
       "<Figure size 576x576 with 1 Axes>"
      ]
     },
     "metadata": {
      "needs_background": "light"
     },
     "output_type": "display_data"
    }
   ],
   "source": [
    "#observing the relation between the PCs and the original features\n",
    "%matplotlib inline\n",
    "fig = plt.figure(figsize = (8,8))\n",
    "plt.scatter(pcs_df.PC1, pcs_df.PC2)\n",
    "plt.xlabel('Principal Component 1')\n",
    "plt.ylabel('Principal Component 2')\n",
    "for i, txt in enumerate(pcs_df.Feature):\n",
    "    plt.annotate(txt, (pcs_df.PC1[i],pcs_df.PC2[i]))\n",
    "plt.tight_layout()\n",
    "plt.show()"
   ]
  },
  {
   "cell_type": "code",
   "execution_count": 17,
   "metadata": {},
   "outputs": [
    {
     "data": {
      "text/plain": [
       "array([9.45979174e-01, 5.40166693e-02, 2.49203818e-06, 1.19095910e-06,\n",
       "       2.77450414e-07, 1.59397297e-07, 2.67271346e-08, 8.38172320e-09,\n",
       "       1.33045587e-09])"
      ]
     },
     "execution_count": 17,
     "metadata": {},
     "output_type": "execute_result"
    }
   ],
   "source": [
    "pca.explained_variance_ratio_"
   ]
  },
  {
   "cell_type": "code",
   "execution_count": 18,
   "metadata": {},
   "outputs": [
    {
     "data": {
      "image/png": "[encoded data removed]",
      "text/plain": [
       "<Figure size 864x576 with 1 Axes>"
      ]
     },
     "metadata": {
      "needs_background": "light"
     },
     "output_type": "display_data"
    }
   ],
   "source": [
    "#Making the screeplot - plotting the cumulative variance against the number of components\n",
    "%matplotlib inline\n",
    "fig = plt.figure(figsize = (12,8))\n",
    "plt.plot(np.cumsum(pca.explained_variance_ratio_))\n",
    "plt.xlabel('number of components')\n",
    "plt.ylabel('cumulative explained variance')\n",
    "plt.show()"
   ]
  },
  {
   "cell_type": "markdown",
   "metadata": {},
   "source": [
    "#  \n",
    "We observe that 100 % of the variance can be easily explained by the first three principle components"
   ]
  },
  {
   "cell_type": "code",
   "execution_count": 19,
   "metadata": {},
   "outputs": [],
   "source": [
    "#Using incremental PCA for efficiency - saves a lot of time on larger datasets\n",
    "from sklearn.decomposition import IncrementalPCA\n",
    "pca_final = IncrementalPCA(n_components=3)"
   ]
  },
  {
   "cell_type": "code",
   "execution_count": 20,
   "metadata": {},
   "outputs": [
    {
     "data": {
      "text/plain": [
       "(162, 3)"
      ]
     },
     "execution_count": 20,
     "metadata": {},
     "output_type": "execute_result"
    }
   ],
   "source": [
    "df_train_pca = pca_final.fit_transform(df1)\n",
    "df_train_pca.shape"
   ]
  },
  {
   "cell_type": "code",
   "execution_count": 21,
   "metadata": {},
   "outputs": [],
   "source": [
    "#creating correlation matrix for the principal components\n",
    "corrmat = np.corrcoef(df_train_pca.transpose())"
   ]
  },
  {
   "cell_type": "code",
   "execution_count": 22,
   "metadata": {},
   "outputs": [
    {
     "data": {
      "text/plain": [
       "<matplotlib.axes._subplots.AxesSubplot at 0x1a21895da0>"
      ]
     },
     "execution_count": 22,
     "metadata": {},
     "output_type": "execute_result"
    },
    {
     "data": {
      "image/png": "[encoded data removed]",
      "text/plain": [
       "<Figure size 1440x720 with 2 Axes>"
      ]
     },
     "metadata": {
      "needs_background": "light"
     },
     "output_type": "display_data"
    }
   ],
   "source": [
    "#plotting the correlation matrix\n",
    "%matplotlib inline\n",
    "plt.figure(figsize = (20,10))\n",
    "sns.heatmap(corrmat,annot = True)"
   ]
  },
  {
   "cell_type": "markdown",
   "metadata": {},
   "source": [
    "#  \n",
    "We observe that there is zero corelation amongst the principle components as expected"
   ]
  },
  {
   "cell_type": "code",
   "execution_count": 23,
   "metadata": {},
   "outputs": [
    {
     "name": "stdout",
     "output_type": "stream",
     "text": [
      "max corr: 4.907252773310301e-08 , min corr:  -1.3783078938698697e-09\n"
     ]
    }
   ],
   "source": [
    "# 1s -> 0s in diagonals\n",
    "corrmat_nodiag = corrmat - np.diagflat(corrmat.diagonal())\n",
    "print(\"max corr:\",corrmat_nodiag.max(), \", min corr: \", corrmat_nodiag.min(),)\n",
    "# we see that correlations are indeed very close to 0"
   ]
  },
  {
   "cell_type": "code",
   "execution_count": 24,
   "metadata": {},
   "outputs": [],
   "source": [
    "pc=np.transpose(df_train_pca)\n",
    "new_df=pd.DataFrame({'PC1':pc[0],'PC2':pc[1],'PC3':pc[2]})"
   ]
  },
  {
   "cell_type": "code",
   "execution_count": 25,
   "metadata": {},
   "outputs": [
    {
     "data": {
      "text/html": [
       "<div>\n",
       "<style scoped>\n",
       "    .dataframe tbody tr th:only-of-type {\n",
       "        vertical-align: middle;\n",
       "    }\n",
       "\n",
       "    .dataframe tbody tr th {\n",
       "        vertical-align: top;\n",
       "    }\n",
       "\n",
       "    .dataframe thead th {\n",
       "        text-align: right;\n",
       "    }\n",
       "</style>\n",
       "<table border=\"1\" class=\"dataframe\">\n",
       "  <thead>\n",
       "    <tr style=\"text-align: right;\">\n",
       "      <th></th>\n",
       "      <th>PC1</th>\n",
       "      <th>PC2</th>\n",
       "      <th>PC3</th>\n",
       "    </tr>\n",
       "  </thead>\n",
       "  <tbody>\n",
       "    <tr>\n",
       "      <th>0</th>\n",
       "      <td>-17347.174289</td>\n",
       "      <td>1829.064652</td>\n",
       "      <td>32.990978</td>\n",
       "    </tr>\n",
       "    <tr>\n",
       "      <th>1</th>\n",
       "      <td>-8913.366837</td>\n",
       "      <td>-1427.565116</td>\n",
       "      <td>-31.264305</td>\n",
       "    </tr>\n",
       "    <tr>\n",
       "      <th>2</th>\n",
       "      <td>-6524.456063</td>\n",
       "      <td>-3230.579293</td>\n",
       "      <td>-14.079104</td>\n",
       "    </tr>\n",
       "    <tr>\n",
       "      <th>3</th>\n",
       "      <td>-12195.356751</td>\n",
       "      <td>977.417564</td>\n",
       "      <td>64.125685</td>\n",
       "    </tr>\n",
       "    <tr>\n",
       "      <th>4</th>\n",
       "      <td>3315.271028</td>\n",
       "      <td>-1994.607485</td>\n",
       "      <td>-26.062281</td>\n",
       "    </tr>\n",
       "    <tr>\n",
       "      <th>5</th>\n",
       "      <td>1704.928690</td>\n",
       "      <td>-3079.397594</td>\n",
       "      <td>-13.685078</td>\n",
       "    </tr>\n",
       "    <tr>\n",
       "      <th>6</th>\n",
       "      <td>-11837.098072</td>\n",
       "      <td>197.741716</td>\n",
       "      <td>-33.119552</td>\n",
       "    </tr>\n",
       "    <tr>\n",
       "      <th>7</th>\n",
       "      <td>46967.293945</td>\n",
       "      <td>10962.257083</td>\n",
       "      <td>8.332241</td>\n",
       "    </tr>\n",
       "    <tr>\n",
       "      <th>8</th>\n",
       "      <td>44776.599969</td>\n",
       "      <td>6120.649142</td>\n",
       "      <td>5.348590</td>\n",
       "    </tr>\n",
       "    <tr>\n",
       "      <th>9</th>\n",
       "      <td>-3338.823686</td>\n",
       "      <td>-4399.372848</td>\n",
       "      <td>3.202577</td>\n",
       "    </tr>\n",
       "    <tr>\n",
       "      <th>10</th>\n",
       "      <td>17046.325394</td>\n",
       "      <td>6696.662442</td>\n",
       "      <td>-14.145082</td>\n",
       "    </tr>\n",
       "    <tr>\n",
       "      <th>11</th>\n",
       "      <td>25022.131894</td>\n",
       "      <td>-11217.500306</td>\n",
       "      <td>6.337951</td>\n",
       "    </tr>\n",
       "    <tr>\n",
       "      <th>12</th>\n",
       "      <td>-16608.751881</td>\n",
       "      <td>1398.048854</td>\n",
       "      <td>-5.850250</td>\n",
       "    </tr>\n",
       "    <tr>\n",
       "      <th>13</th>\n",
       "      <td>3235.036487</td>\n",
       "      <td>3378.810192</td>\n",
       "      <td>-26.805014</td>\n",
       "    </tr>\n",
       "    <tr>\n",
       "      <th>14</th>\n",
       "      <td>-3062.944970</td>\n",
       "      <td>-4402.360359</td>\n",
       "      <td>-34.067376</td>\n",
       "    </tr>\n",
       "    <tr>\n",
       "      <th>15</th>\n",
       "      <td>41528.503144</td>\n",
       "      <td>5789.240528</td>\n",
       "      <td>-2.634764</td>\n",
       "    </tr>\n",
       "    <tr>\n",
       "      <th>16</th>\n",
       "      <td>-10210.289085</td>\n",
       "      <td>179.558524</td>\n",
       "      <td>-35.314468</td>\n",
       "    </tr>\n",
       "    <tr>\n",
       "      <th>17</th>\n",
       "      <td>-17053.719487</td>\n",
       "      <td>1829.917935</td>\n",
       "      <td>51.631109</td>\n",
       "    </tr>\n",
       "    <tr>\n",
       "      <th>18</th>\n",
       "      <td>-12762.371427</td>\n",
       "      <td>-353.536248</td>\n",
       "      <td>-14.219329</td>\n",
       "    </tr>\n",
       "    <tr>\n",
       "      <th>19</th>\n",
       "      <td>-13626.428304</td>\n",
       "      <td>206.387226</td>\n",
       "      <td>-7.450743</td>\n",
       "    </tr>\n",
       "    <tr>\n",
       "      <th>20</th>\n",
       "      <td>-8701.883051</td>\n",
       "      <td>-908.172809</td>\n",
       "      <td>-41.877138</td>\n",
       "    </tr>\n",
       "    <tr>\n",
       "      <th>21</th>\n",
       "      <td>-4921.122777</td>\n",
       "      <td>-2152.907612</td>\n",
       "      <td>10.839588</td>\n",
       "    </tr>\n",
       "    <tr>\n",
       "      <th>22</th>\n",
       "      <td>-682.107435</td>\n",
       "      <td>491.621439</td>\n",
       "      <td>-14.865666</td>\n",
       "    </tr>\n",
       "    <tr>\n",
       "      <th>23</th>\n",
       "      <td>63535.172814</td>\n",
       "      <td>-28251.306390</td>\n",
       "      <td>73.487088</td>\n",
       "    </tr>\n",
       "    <tr>\n",
       "      <th>24</th>\n",
       "      <td>-3144.631931</td>\n",
       "      <td>-3194.281099</td>\n",
       "      <td>-30.743290</td>\n",
       "    </tr>\n",
       "    <tr>\n",
       "      <th>25</th>\n",
       "      <td>-17461.039547</td>\n",
       "      <td>1970.233052</td>\n",
       "      <td>58.263696</td>\n",
       "    </tr>\n",
       "    <tr>\n",
       "      <th>26</th>\n",
       "      <td>-18178.517367</td>\n",
       "      <td>2187.220462</td>\n",
       "      <td>35.690956</td>\n",
       "    </tr>\n",
       "    <tr>\n",
       "      <th>27</th>\n",
       "      <td>-16531.827677</td>\n",
       "      <td>1362.371116</td>\n",
       "      <td>-17.637742</td>\n",
       "    </tr>\n",
       "    <tr>\n",
       "      <th>28</th>\n",
       "      <td>-16066.495004</td>\n",
       "      <td>1640.989827</td>\n",
       "      <td>52.113736</td>\n",
       "    </tr>\n",
       "    <tr>\n",
       "      <th>29</th>\n",
       "      <td>43330.867166</td>\n",
       "      <td>8220.644193</td>\n",
       "      <td>6.437518</td>\n",
       "    </tr>\n",
       "    <tr>\n",
       "      <th>...</th>\n",
       "      <td>...</td>\n",
       "      <td>...</td>\n",
       "      <td>...</td>\n",
       "    </tr>\n",
       "    <tr>\n",
       "      <th>132</th>\n",
       "      <td>-5206.269614</td>\n",
       "      <td>-580.121101</td>\n",
       "      <td>14.091476</td>\n",
       "    </tr>\n",
       "    <tr>\n",
       "      <th>133</th>\n",
       "      <td>18319.042581</td>\n",
       "      <td>-2760.637025</td>\n",
       "      <td>-13.821111</td>\n",
       "    </tr>\n",
       "    <tr>\n",
       "      <th>134</th>\n",
       "      <td>25815.613538</td>\n",
       "      <td>1948.036109</td>\n",
       "      <td>-7.406032</td>\n",
       "    </tr>\n",
       "    <tr>\n",
       "      <th>135</th>\n",
       "      <td>-10787.938330</td>\n",
       "      <td>-1391.912489</td>\n",
       "      <td>-33.552491</td>\n",
       "    </tr>\n",
       "    <tr>\n",
       "      <th>136</th>\n",
       "      <td>-7430.101315</td>\n",
       "      <td>115.035585</td>\n",
       "      <td>-27.423164</td>\n",
       "    </tr>\n",
       "    <tr>\n",
       "      <th>137</th>\n",
       "      <td>-15438.576537</td>\n",
       "      <td>1268.448694</td>\n",
       "      <td>24.159224</td>\n",
       "    </tr>\n",
       "    <tr>\n",
       "      <th>138</th>\n",
       "      <td>-2917.140615</td>\n",
       "      <td>-1380.481775</td>\n",
       "      <td>-16.980629</td>\n",
       "    </tr>\n",
       "    <tr>\n",
       "      <th>139</th>\n",
       "      <td>48182.974372</td>\n",
       "      <td>10061.034085</td>\n",
       "      <td>4.587281</td>\n",
       "    </tr>\n",
       "    <tr>\n",
       "      <th>140</th>\n",
       "      <td>72895.135173</td>\n",
       "      <td>17431.149396</td>\n",
       "      <td>22.291787</td>\n",
       "    </tr>\n",
       "    <tr>\n",
       "      <th>141</th>\n",
       "      <td>-16859.490537</td>\n",
       "      <td>1613.533420</td>\n",
       "      <td>-6.902032</td>\n",
       "    </tr>\n",
       "    <tr>\n",
       "      <th>142</th>\n",
       "      <td>-16898.935340</td>\n",
       "      <td>1601.649268</td>\n",
       "      <td>16.491818</td>\n",
       "    </tr>\n",
       "    <tr>\n",
       "      <th>143</th>\n",
       "      <td>-5662.070643</td>\n",
       "      <td>-3203.603682</td>\n",
       "      <td>-31.939872</td>\n",
       "    </tr>\n",
       "    <tr>\n",
       "      <th>144</th>\n",
       "      <td>-15052.776835</td>\n",
       "      <td>3848.365398</td>\n",
       "      <td>8.090635</td>\n",
       "    </tr>\n",
       "    <tr>\n",
       "      <th>145</th>\n",
       "      <td>-17679.466722</td>\n",
       "      <td>2060.973963</td>\n",
       "      <td>27.413736</td>\n",
       "    </tr>\n",
       "    <tr>\n",
       "      <th>146</th>\n",
       "      <td>-12841.510822</td>\n",
       "      <td>1632.483335</td>\n",
       "      <td>-37.258640</td>\n",
       "    </tr>\n",
       "    <tr>\n",
       "      <th>147</th>\n",
       "      <td>-8541.271651</td>\n",
       "      <td>-1719.054222</td>\n",
       "      <td>-32.501167</td>\n",
       "    </tr>\n",
       "    <tr>\n",
       "      <th>148</th>\n",
       "      <td>1481.205426</td>\n",
       "      <td>-2304.827561</td>\n",
       "      <td>-13.111105</td>\n",
       "    </tr>\n",
       "    <tr>\n",
       "      <th>149</th>\n",
       "      <td>-8662.458895</td>\n",
       "      <td>-1183.387431</td>\n",
       "      <td>10.602351</td>\n",
       "    </tr>\n",
       "    <tr>\n",
       "      <th>150</th>\n",
       "      <td>-17368.139880</td>\n",
       "      <td>1907.937971</td>\n",
       "      <td>25.187604</td>\n",
       "    </tr>\n",
       "    <tr>\n",
       "      <th>151</th>\n",
       "      <td>-11207.506917</td>\n",
       "      <td>-761.741596</td>\n",
       "      <td>-39.471825</td>\n",
       "    </tr>\n",
       "    <tr>\n",
       "      <th>152</th>\n",
       "      <td>46821.804756</td>\n",
       "      <td>-12447.800708</td>\n",
       "      <td>30.259664</td>\n",
       "    </tr>\n",
       "    <tr>\n",
       "      <th>153</th>\n",
       "      <td>34181.735386</td>\n",
       "      <td>5255.289456</td>\n",
       "      <td>-0.679625</td>\n",
       "    </tr>\n",
       "    <tr>\n",
       "      <th>154</th>\n",
       "      <td>50270.311250</td>\n",
       "      <td>2878.971194</td>\n",
       "      <td>25.113700</td>\n",
       "    </tr>\n",
       "    <tr>\n",
       "      <th>155</th>\n",
       "      <td>1671.156160</td>\n",
       "      <td>-816.918772</td>\n",
       "      <td>-23.202212</td>\n",
       "    </tr>\n",
       "    <tr>\n",
       "      <th>156</th>\n",
       "      <td>-14883.877763</td>\n",
       "      <td>590.704389</td>\n",
       "      <td>-16.764532</td>\n",
       "    </tr>\n",
       "    <tr>\n",
       "      <th>157</th>\n",
       "      <td>-14702.160782</td>\n",
       "      <td>2630.087886</td>\n",
       "      <td>-29.922271</td>\n",
       "    </tr>\n",
       "    <tr>\n",
       "      <th>158</th>\n",
       "      <td>2354.949239</td>\n",
       "      <td>749.084808</td>\n",
       "      <td>-13.412961</td>\n",
       "    </tr>\n",
       "    <tr>\n",
       "      <th>159</th>\n",
       "      <td>-14753.207590</td>\n",
       "      <td>366.290780</td>\n",
       "      <td>-39.272795</td>\n",
       "    </tr>\n",
       "    <tr>\n",
       "      <th>160</th>\n",
       "      <td>-14760.434084</td>\n",
       "      <td>373.340943</td>\n",
       "      <td>3.437668</td>\n",
       "    </tr>\n",
       "    <tr>\n",
       "      <th>161</th>\n",
       "      <td>-15517.093223</td>\n",
       "      <td>1316.767018</td>\n",
       "      <td>29.124233</td>\n",
       "    </tr>\n",
       "  </tbody>\n",
       "</table>\n",
       "<p>162 rows × 3 columns</p>\n",
       "</div>"
      ],
      "text/plain": [
       "              PC1           PC2        PC3\n",
       "0   -17347.174289   1829.064652  32.990978\n",
       "1    -8913.366837  -1427.565116 -31.264305\n",
       "2    -6524.456063  -3230.579293 -14.079104\n",
       "3   -12195.356751    977.417564  64.125685\n",
       "4     3315.271028  -1994.607485 -26.062281\n",
       "5     1704.928690  -3079.397594 -13.685078\n",
       "6   -11837.098072    197.741716 -33.119552\n",
       "7    46967.293945  10962.257083   8.332241\n",
       "8    44776.599969   6120.649142   5.348590\n",
       "9    -3338.823686  -4399.372848   3.202577\n",
       "10   17046.325394   6696.662442 -14.145082\n",
       "11   25022.131894 -11217.500306   6.337951\n",
       "12  -16608.751881   1398.048854  -5.850250\n",
       "13    3235.036487   3378.810192 -26.805014\n",
       "14   -3062.944970  -4402.360359 -34.067376\n",
       "15   41528.503144   5789.240528  -2.634764\n",
       "16  -10210.289085    179.558524 -35.314468\n",
       "17  -17053.719487   1829.917935  51.631109\n",
       "18  -12762.371427   -353.536248 -14.219329\n",
       "19  -13626.428304    206.387226  -7.450743\n",
       "20   -8701.883051   -908.172809 -41.877138\n",
       "21   -4921.122777  -2152.907612  10.839588\n",
       "22    -682.107435    491.621439 -14.865666\n",
       "23   63535.172814 -28251.306390  73.487088\n",
       "24   -3144.631931  -3194.281099 -30.743290\n",
       "25  -17461.039547   1970.233052  58.263696\n",
       "26  -18178.517367   2187.220462  35.690956\n",
       "27  -16531.827677   1362.371116 -17.637742\n",
       "28  -16066.495004   1640.989827  52.113736\n",
       "29   43330.867166   8220.644193   6.437518\n",
       "..            ...           ...        ...\n",
       "132  -5206.269614   -580.121101  14.091476\n",
       "133  18319.042581  -2760.637025 -13.821111\n",
       "134  25815.613538   1948.036109  -7.406032\n",
       "135 -10787.938330  -1391.912489 -33.552491\n",
       "136  -7430.101315    115.035585 -27.423164\n",
       "137 -15438.576537   1268.448694  24.159224\n",
       "138  -2917.140615  -1380.481775 -16.980629\n",
       "139  48182.974372  10061.034085   4.587281\n",
       "140  72895.135173  17431.149396  22.291787\n",
       "141 -16859.490537   1613.533420  -6.902032\n",
       "142 -16898.935340   1601.649268  16.491818\n",
       "143  -5662.070643  -3203.603682 -31.939872\n",
       "144 -15052.776835   3848.365398   8.090635\n",
       "145 -17679.466722   2060.973963  27.413736\n",
       "146 -12841.510822   1632.483335 -37.258640\n",
       "147  -8541.271651  -1719.054222 -32.501167\n",
       "148   1481.205426  -2304.827561 -13.111105\n",
       "149  -8662.458895  -1183.387431  10.602351\n",
       "150 -17368.139880   1907.937971  25.187604\n",
       "151 -11207.506917   -761.741596 -39.471825\n",
       "152  46821.804756 -12447.800708  30.259664\n",
       "153  34181.735386   5255.289456  -0.679625\n",
       "154  50270.311250   2878.971194  25.113700\n",
       "155   1671.156160   -816.918772 -23.202212\n",
       "156 -14883.877763    590.704389 -16.764532\n",
       "157 -14702.160782   2630.087886 -29.922271\n",
       "158   2354.949239    749.084808 -13.412961\n",
       "159 -14753.207590    366.290780 -39.272795\n",
       "160 -14760.434084    373.340943   3.437668\n",
       "161 -15517.093223   1316.767018  29.124233\n",
       "\n",
       "[162 rows x 3 columns]"
      ]
     },
     "execution_count": 25,
     "metadata": {},
     "output_type": "execute_result"
    }
   ],
   "source": [
    "new_df"
   ]
  },
  {
   "cell_type": "markdown",
   "metadata": {},
   "source": [
    "##  \n",
    "We have now transformed our orignal dataset consisting of 9 features into 3 prainciple components"
   ]
  },
  {
   "cell_type": "code",
   "execution_count": 26,
   "metadata": {},
   "outputs": [],
   "source": [
    "#Performing K means Clustering\n",
    "\n",
    "# standardise all parameters\n",
    "from sklearn.preprocessing import StandardScaler\n",
    "standard_scaler = StandardScaler()\n",
    "new_df2 = standard_scaler.fit_transform(new_df)"
   ]
  },
  {
   "cell_type": "code",
   "execution_count": 27,
   "metadata": {},
   "outputs": [
    {
     "data": {
      "text/html": [
       "<div>\n",
       "<style scoped>\n",
       "    .dataframe tbody tr th:only-of-type {\n",
       "        vertical-align: middle;\n",
       "    }\n",
       "\n",
       "    .dataframe tbody tr th {\n",
       "        vertical-align: top;\n",
       "    }\n",
       "\n",
       "    .dataframe thead th {\n",
       "        text-align: right;\n",
       "    }\n",
       "</style>\n",
       "<table border=\"1\" class=\"dataframe\">\n",
       "  <thead>\n",
       "    <tr style=\"text-align: right;\">\n",
       "      <th></th>\n",
       "      <th>PC1</th>\n",
       "      <th>PC2</th>\n",
       "      <th>PC3</th>\n",
       "    </tr>\n",
       "  </thead>\n",
       "  <tbody>\n",
       "    <tr>\n",
       "      <th>0</th>\n",
       "      <td>-0.825848</td>\n",
       "      <td>0.364399</td>\n",
       "      <td>0.968294</td>\n",
       "    </tr>\n",
       "    <tr>\n",
       "      <th>1</th>\n",
       "      <td>-0.424339</td>\n",
       "      <td>-0.284410</td>\n",
       "      <td>-0.917616</td>\n",
       "    </tr>\n",
       "    <tr>\n",
       "      <th>2</th>\n",
       "      <td>-0.310610</td>\n",
       "      <td>-0.643619</td>\n",
       "      <td>-0.413225</td>\n",
       "    </tr>\n",
       "    <tr>\n",
       "      <th>3</th>\n",
       "      <td>-0.580585</td>\n",
       "      <td>0.194728</td>\n",
       "      <td>1.882106</td>\n",
       "    </tr>\n",
       "    <tr>\n",
       "      <th>4</th>\n",
       "      <td>0.157830</td>\n",
       "      <td>-0.397380</td>\n",
       "      <td>-0.764935</td>\n",
       "    </tr>\n",
       "  </tbody>\n",
       "</table>\n",
       "</div>"
      ],
      "text/plain": [
       "        PC1       PC2       PC3\n",
       "0 -0.825848  0.364399  0.968294\n",
       "1 -0.424339 -0.284410 -0.917616\n",
       "2 -0.310610 -0.643619 -0.413225\n",
       "3 -0.580585  0.194728  1.882106\n",
       "4  0.157830 -0.397380 -0.764935"
      ]
     },
     "execution_count": 27,
     "metadata": {},
     "output_type": "execute_result"
    }
   ],
   "source": [
    "new_df2 = pd.DataFrame(new_df2)\n",
    "new_df2.columns = ['PC1','PC2','PC3']\n",
    "new_df2.head()"
   ]
  },
  {
   "cell_type": "code",
   "execution_count": 28,
   "metadata": {},
   "outputs": [
    {
     "data": {
      "text/plain": [
       "<matplotlib.axes._subplots.AxesSubplot at 0x1a21862a58>"
      ]
     },
     "execution_count": 28,
     "metadata": {},
     "output_type": "execute_result"
    },
    {
     "data": {
      "image/png": "[encoded data removed]",
      "text/plain": [
       "<Figure size 432x288 with 1 Axes>"
      ]
     },
     "metadata": {
      "needs_background": "light"
     },
     "output_type": "display_data"
    }
   ],
   "source": [
    "sns.scatterplot(x='PC1',y='PC2',data=new_df2)"
   ]
  },
  {
   "cell_type": "markdown",
   "metadata": {},
   "source": [
    "### Calculating Hopkins Score"
   ]
  },
  {
   "cell_type": "code",
   "execution_count": 29,
   "metadata": {},
   "outputs": [],
   "source": [
    "from sklearn.neighbors import NearestNeighbors\n",
    "from random import sample\n",
    "from numpy.random import uniform\n",
    "import numpy as np\n",
    "from math import isnan\n",
    " \n",
    "def hopkins(X):\n",
    "    d = X.shape[1]\n",
    "    #d = len(vars) # columns\n",
    "    n = len(X) # rows\n",
    "    m = int(0.1 * n) \n",
    "    nbrs = NearestNeighbors(n_neighbors=1).fit(X.values)\n",
    " \n",
    "    rand_X = sample(range(0, n, 1), m)\n",
    " \n",
    "    ujd = []\n",
    "    wjd = []\n",
    "    for j in range(0, m):\n",
    "        u_dist, _ = nbrs.kneighbors(uniform(np.amin(X,axis=0),np.amax(X,axis=0),d).reshape(1, -1), 2, return_distance=True)\n",
    "        ujd.append(u_dist[0][1])\n",
    "        w_dist, _ = nbrs.kneighbors(X.iloc[rand_X[j]].values.reshape(1, -1), 2, return_distance=True)\n",
    "        wjd.append(w_dist[0][1])\n",
    " \n",
    "    H = sum(ujd) / (sum(ujd) + sum(wjd))\n",
    "    if isnan(H):\n",
    "        print(ujd, wjd)\n",
    "        H = 0\n",
    " \n",
    "    return H"
   ]
  },
  {
   "cell_type": "code",
   "execution_count": 30,
   "metadata": {},
   "outputs": [
    {
     "data": {
      "text/plain": [
       "0.8670333384516143"
      ]
     },
     "execution_count": 30,
     "metadata": {},
     "output_type": "execute_result"
    }
   ],
   "source": [
    "hopkins(new_df2)"
   ]
  },
  {
   "cell_type": "markdown",
   "metadata": {},
   "source": [
    "#   \n",
    "We are getting hopkins score greater than 0.8. Hence, we can proceed ahead with this dataset for clustering"
   ]
  },
  {
   "cell_type": "markdown",
   "metadata": {},
   "source": [
    "### Performing Silhouette Analysis and Elbow curve"
   ]
  },
  {
   "cell_type": "code",
   "execution_count": 31,
   "metadata": {},
   "outputs": [],
   "source": [
    "from sklearn.metrics import silhouette_score\n",
    "sse_ = []\n",
    "for k in range(2, 15):\n",
    "    kmeans = KMeans(n_clusters=k).fit(new_df2)\n",
    "    sse_.append([k, silhouette_score(new_df2, kmeans.labels_)])"
   ]
  },
  {
   "cell_type": "code",
   "execution_count": 32,
   "metadata": {},
   "outputs": [
    {
     "data": {
      "text/plain": [
       "Text(0.5,1,'Silhouette Curve')"
      ]
     },
     "execution_count": 32,
     "metadata": {},
     "output_type": "execute_result"
    },
    {
     "data": {
      "image/png": "[encoded data removed]",
      "text/plain": [
       "<Figure size 432x288 with 1 Axes>"
      ]
     },
     "metadata": {
      "needs_background": "light"
     },
     "output_type": "display_data"
    }
   ],
   "source": [
    "plt.plot(pd.DataFrame(sse_)[0], pd.DataFrame(sse_)[1]);\n",
    "plt.title('Silhouette Curve')"
   ]
  },
  {
   "cell_type": "code",
   "execution_count": 33,
   "metadata": {},
   "outputs": [
    {
     "data": {
      "text/plain": [
       "Text(0.5,1,'Elbow Curve')"
      ]
     },
     "execution_count": 33,
     "metadata": {},
     "output_type": "execute_result"
    },
    {
     "data": {
      "image/png": "[encoded data removed]",
      "text/plain": [
       "<Figure size 432x288 with 1 Axes>"
      ]
     },
     "metadata": {
      "needs_background": "light"
     },
     "output_type": "display_data"
    }
   ],
   "source": [
    "# sum of squared distances\n",
    "ssd = []\n",
    "for num_clusters in list(range(1,21)):\n",
    "    model_clus = KMeans(n_clusters = num_clusters, max_iter=50)\n",
    "    model_clus.fit(new_df2)\n",
    "    ssd.append(model_clus.inertia_)\n",
    "\n",
    "plt.plot(ssd)\n",
    "plt.title('Elbow Curve')"
   ]
  },
  {
   "cell_type": "markdown",
   "metadata": {},
   "source": [
    "###   \n",
    "With the help of silhouette curve and elbow curve, we take no of clusters equal to 4"
   ]
  },
  {
   "cell_type": "code",
   "execution_count": 34,
   "metadata": {},
   "outputs": [
    {
     "data": {
      "text/plain": [
       "KMeans(algorithm='auto', copy_x=True, init='k-means++', max_iter=50,\n",
       "    n_clusters=4, n_init=10, n_jobs=1, precompute_distances='auto',\n",
       "    random_state=None, tol=0.0001, verbose=0)"
      ]
     },
     "execution_count": 34,
     "metadata": {},
     "output_type": "execute_result"
    }
   ],
   "source": [
    "# Kmeans with K=4\n",
    "model_clus5 = KMeans(n_clusters = 4, max_iter=50)\n",
    "model_clus5.fit(new_df2)"
   ]
  },
  {
   "cell_type": "code",
   "execution_count": 35,
   "metadata": {},
   "outputs": [],
   "source": [
    "# analysis of clusters formed\n",
    "df.index = pd.RangeIndex(len(df.index))\n",
    "RFM_km = pd.concat([df, pd.Series(model_clus5.labels_)], axis=1)\n",
    "RFM_km.columns = ['country','child_mort','exports','health','imports','income','inflation','life_expec','total_fer','gdpp', 'ClusterID']\n",
    "\n",
    "\n",
    "km_clusters_childm = \tpd.DataFrame(RFM_km.groupby([\"ClusterID\"]).child_mort.mean())\n",
    "km_clusters_exp = \tpd.DataFrame(RFM_km.groupby([\"ClusterID\"]).exports.mean())\n",
    "km_clusters_imp= \tpd.DataFrame(RFM_km.groupby([\"ClusterID\"]).imports.mean())\n",
    "\n",
    "km_clusters_health = \tpd.DataFrame(RFM_km.groupby([\"ClusterID\"]).health.mean())\n",
    "km_clusters_inc = \tpd.DataFrame(RFM_km.groupby([\"ClusterID\"]).income.mean())\n",
    "km_clusters_inf= \tpd.DataFrame(RFM_km.groupby([\"ClusterID\"]).inflation.mean())\n",
    "\n",
    "km_clusters_life_exp = \tpd.DataFrame(RFM_km.groupby([\"ClusterID\"]).life_expec.mean())\n",
    "km_clusters_fer = \tpd.DataFrame(RFM_km.groupby([\"ClusterID\"]).total_fer.mean())\n",
    "km_clusters_gdpp= \tpd.DataFrame(RFM_km.groupby([\"ClusterID\"]).gdpp.mean())"
   ]
  },
  {
   "cell_type": "code",
   "execution_count": 36,
   "metadata": {},
   "outputs": [
    {
     "data": {
      "text/html": [
       "<div>\n",
       "<style scoped>\n",
       "    .dataframe tbody tr th:only-of-type {\n",
       "        vertical-align: middle;\n",
       "    }\n",
       "\n",
       "    .dataframe tbody tr th {\n",
       "        vertical-align: top;\n",
       "    }\n",
       "\n",
       "    .dataframe thead th {\n",
       "        text-align: right;\n",
       "    }\n",
       "</style>\n",
       "<table border=\"1\" class=\"dataframe\">\n",
       "  <thead>\n",
       "    <tr style=\"text-align: right;\">\n",
       "      <th></th>\n",
       "      <th>country</th>\n",
       "      <th>child_mort</th>\n",
       "      <th>exports</th>\n",
       "      <th>health</th>\n",
       "      <th>imports</th>\n",
       "      <th>income</th>\n",
       "      <th>inflation</th>\n",
       "      <th>life_expec</th>\n",
       "      <th>total_fer</th>\n",
       "      <th>gdpp</th>\n",
       "      <th>ClusterID</th>\n",
       "    </tr>\n",
       "  </thead>\n",
       "  <tbody>\n",
       "    <tr>\n",
       "      <th>0</th>\n",
       "      <td>Afghanistan</td>\n",
       "      <td>90.2</td>\n",
       "      <td>10.0</td>\n",
       "      <td>7.58</td>\n",
       "      <td>44.9</td>\n",
       "      <td>1610</td>\n",
       "      <td>9.44</td>\n",
       "      <td>56.2</td>\n",
       "      <td>5.82</td>\n",
       "      <td>553</td>\n",
       "      <td>0</td>\n",
       "    </tr>\n",
       "    <tr>\n",
       "      <th>1</th>\n",
       "      <td>Albania</td>\n",
       "      <td>16.6</td>\n",
       "      <td>28.0</td>\n",
       "      <td>6.55</td>\n",
       "      <td>48.6</td>\n",
       "      <td>9930</td>\n",
       "      <td>4.49</td>\n",
       "      <td>76.3</td>\n",
       "      <td>1.65</td>\n",
       "      <td>4090</td>\n",
       "      <td>1</td>\n",
       "    </tr>\n",
       "    <tr>\n",
       "      <th>2</th>\n",
       "      <td>Algeria</td>\n",
       "      <td>27.3</td>\n",
       "      <td>38.4</td>\n",
       "      <td>4.17</td>\n",
       "      <td>31.4</td>\n",
       "      <td>12900</td>\n",
       "      <td>16.10</td>\n",
       "      <td>76.5</td>\n",
       "      <td>2.89</td>\n",
       "      <td>4460</td>\n",
       "      <td>1</td>\n",
       "    </tr>\n",
       "    <tr>\n",
       "      <th>3</th>\n",
       "      <td>Angola</td>\n",
       "      <td>119.0</td>\n",
       "      <td>62.3</td>\n",
       "      <td>2.85</td>\n",
       "      <td>42.9</td>\n",
       "      <td>5900</td>\n",
       "      <td>22.40</td>\n",
       "      <td>60.1</td>\n",
       "      <td>6.16</td>\n",
       "      <td>3530</td>\n",
       "      <td>0</td>\n",
       "    </tr>\n",
       "    <tr>\n",
       "      <th>4</th>\n",
       "      <td>Antigua and Barbuda</td>\n",
       "      <td>10.3</td>\n",
       "      <td>45.5</td>\n",
       "      <td>6.03</td>\n",
       "      <td>58.9</td>\n",
       "      <td>19100</td>\n",
       "      <td>1.44</td>\n",
       "      <td>76.8</td>\n",
       "      <td>2.13</td>\n",
       "      <td>12200</td>\n",
       "      <td>1</td>\n",
       "    </tr>\n",
       "  </tbody>\n",
       "</table>\n",
       "</div>"
      ],
      "text/plain": [
       "               country  child_mort  exports  health  imports  income  \\\n",
       "0          Afghanistan        90.2     10.0    7.58     44.9    1610   \n",
       "1              Albania        16.6     28.0    6.55     48.6    9930   \n",
       "2              Algeria        27.3     38.4    4.17     31.4   12900   \n",
       "3               Angola       119.0     62.3    2.85     42.9    5900   \n",
       "4  Antigua and Barbuda        10.3     45.5    6.03     58.9   19100   \n",
       "\n",
       "   inflation  life_expec  total_fer   gdpp  ClusterID  \n",
       "0       9.44        56.2       5.82    553          0  \n",
       "1       4.49        76.3       1.65   4090          1  \n",
       "2      16.10        76.5       2.89   4460          1  \n",
       "3      22.40        60.1       6.16   3530          0  \n",
       "4       1.44        76.8       2.13  12200          1  "
      ]
     },
     "execution_count": 36,
     "metadata": {},
     "output_type": "execute_result"
    }
   ],
   "source": [
    "RFM_km.head()"
   ]
  },
  {
   "cell_type": "code",
   "execution_count": 37,
   "metadata": {},
   "outputs": [
    {
     "data": {
      "text/html": [
       "<div>\n",
       "<style scoped>\n",
       "    .dataframe tbody tr th:only-of-type {\n",
       "        vertical-align: middle;\n",
       "    }\n",
       "\n",
       "    .dataframe tbody tr th {\n",
       "        vertical-align: top;\n",
       "    }\n",
       "\n",
       "    .dataframe thead th {\n",
       "        text-align: right;\n",
       "    }\n",
       "</style>\n",
       "<table border=\"1\" class=\"dataframe\">\n",
       "  <thead>\n",
       "    <tr style=\"text-align: right;\">\n",
       "      <th></th>\n",
       "      <th>ClusterID</th>\n",
       "      <th>Child_Mortality_mean</th>\n",
       "      <th>Exports_mean</th>\n",
       "      <th>Imports_mean</th>\n",
       "      <th>Health_mean</th>\n",
       "      <th>Income_mean</th>\n",
       "      <th>Inflation_mean</th>\n",
       "      <th>Life_expectancy_mean</th>\n",
       "      <th>Total_Fertility_mean</th>\n",
       "      <th>GDPP_mean</th>\n",
       "    </tr>\n",
       "  </thead>\n",
       "  <tbody>\n",
       "    <tr>\n",
       "      <th>0</th>\n",
       "      <td>0</td>\n",
       "      <td>101.648649</td>\n",
       "      <td>25.571054</td>\n",
       "      <td>40.215295</td>\n",
       "      <td>6.356757</td>\n",
       "      <td>2490.891892</td>\n",
       "      <td>11.982027</td>\n",
       "      <td>58.827027</td>\n",
       "      <td>5.186757</td>\n",
       "      <td>1176.162162</td>\n",
       "    </tr>\n",
       "    <tr>\n",
       "      <th>1</th>\n",
       "      <td>1</td>\n",
       "      <td>24.415789</td>\n",
       "      <td>40.571263</td>\n",
       "      <td>48.414737</td>\n",
       "      <td>6.426526</td>\n",
       "      <td>11782.105263</td>\n",
       "      <td>7.417158</td>\n",
       "      <td>71.874737</td>\n",
       "      <td>2.436842</td>\n",
       "      <td>6446.273684</td>\n",
       "    </tr>\n",
       "    <tr>\n",
       "      <th>2</th>\n",
       "      <td>2</td>\n",
       "      <td>4.743478</td>\n",
       "      <td>41.408696</td>\n",
       "      <td>39.782609</td>\n",
       "      <td>10.225652</td>\n",
       "      <td>38843.478261</td>\n",
       "      <td>1.118565</td>\n",
       "      <td>80.582609</td>\n",
       "      <td>1.808261</td>\n",
       "      <td>43178.260870</td>\n",
       "    </tr>\n",
       "    <tr>\n",
       "      <th>3</th>\n",
       "      <td>3</td>\n",
       "      <td>25.271429</td>\n",
       "      <td>68.914286</td>\n",
       "      <td>43.714286</td>\n",
       "      <td>3.662857</td>\n",
       "      <td>54128.571429</td>\n",
       "      <td>15.077143</td>\n",
       "      <td>74.271429</td>\n",
       "      <td>2.735714</td>\n",
       "      <td>26457.142857</td>\n",
       "    </tr>\n",
       "  </tbody>\n",
       "</table>\n",
       "</div>"
      ],
      "text/plain": [
       "   ClusterID  Child_Mortality_mean  Exports_mean  Imports_mean  Health_mean  \\\n",
       "0          0            101.648649     25.571054     40.215295     6.356757   \n",
       "1          1             24.415789     40.571263     48.414737     6.426526   \n",
       "2          2              4.743478     41.408696     39.782609    10.225652   \n",
       "3          3             25.271429     68.914286     43.714286     3.662857   \n",
       "\n",
       "    Income_mean  Inflation_mean  Life_expectancy_mean  Total_Fertility_mean  \\\n",
       "0   2490.891892       11.982027             58.827027              5.186757   \n",
       "1  11782.105263        7.417158             71.874737              2.436842   \n",
       "2  38843.478261        1.118565             80.582609              1.808261   \n",
       "3  54128.571429       15.077143             74.271429              2.735714   \n",
       "\n",
       "      GDPP_mean  \n",
       "0   1176.162162  \n",
       "1   6446.273684  \n",
       "2  43178.260870  \n",
       "3  26457.142857  "
      ]
     },
     "execution_count": 37,
     "metadata": {},
     "output_type": "execute_result"
    }
   ],
   "source": [
    "df_c = pd.concat([pd.Series([0,1,2,3]), km_clusters_childm, km_clusters_exp, km_clusters_imp,km_clusters_health,km_clusters_inc,km_clusters_inf,km_clusters_life_exp,km_clusters_fer,km_clusters_gdpp], axis=1)\n",
    "df_c.columns = [\"ClusterID\",\"Child_Mortality_mean\", \"Exports_mean\", \"Imports_mean\",\"Health_mean\",\"Income_mean\",'Inflation_mean','Life_expectancy_mean','Total_Fertility_mean','GDPP_mean']\n",
    "df_c.head()"
   ]
  },
  {
   "cell_type": "code",
   "execution_count": 38,
   "metadata": {
    "scrolled": false
   },
   "outputs": [
    {
     "data": {
      "text/plain": [
       "Text(0.5,1,'Mean GDPP')"
      ]
     },
     "execution_count": 38,
     "metadata": {},
     "output_type": "execute_result"
    },
    {
     "data": {
      "image/png": "[encoded data removed]",
      "text/plain": [
       "<Figure size 1440x1080 with 9 Axes>"
      ]
     },
     "metadata": {
      "needs_background": "light"
     },
     "output_type": "display_data"
    }
   ],
   "source": [
    "#plotting the mean of features for each cluster\n",
    "\n",
    "plt.figure(figsize=(20,15))\n",
    "plt.subplot(331)\n",
    "sns.barplot(x=df_c.ClusterID, y=df_c['Child_Mortality_mean'])\n",
    "plt.title(\"Mean Child Mortality\")\n",
    "\n",
    "plt.subplot(332)\n",
    "sns.barplot(x=df_c.ClusterID, y=df_c['Exports_mean'])\n",
    "plt.title(\"Mean Exports\")\n",
    "\n",
    "plt.subplot(333)\n",
    "sns.barplot(x=df_c.ClusterID, y=df_c['Imports_mean'])\n",
    "plt.title(\"Mean Imports\")\n",
    "\n",
    "plt.subplot(334)\n",
    "sns.barplot(x=df_c.ClusterID, y=df_c['Health_mean'])\n",
    "plt.title(\"Mean Health\")\n",
    "\n",
    "plt.subplot(335)\n",
    "sns.barplot(x=df_c.ClusterID, y=df_c['Income_mean'])\n",
    "plt.title(\"Mean Income\")\n",
    "\n",
    "plt.subplot(336)\n",
    "sns.barplot(x=df_c.ClusterID, y=df_c['Inflation_mean'])\n",
    "plt.title(\"Mean Inflation\")\n",
    "\n",
    "plt.subplot(337)\n",
    "sns.barplot(x=df_c.ClusterID, y=df_c['Life_expectancy_mean'])\n",
    "plt.title(\"Mean Life Expectancy\")\n",
    "\n",
    "plt.subplot(338)\n",
    "sns.barplot(x=df_c.ClusterID, y=df_c['Total_Fertility_mean'])\n",
    "plt.title(\"Mean Total Fertility\")\n",
    "\n",
    "plt.subplot(339)\n",
    "sns.barplot(x=df_c.ClusterID, y=df_c['GDPP_mean'])\n",
    "plt.title(\"Mean GDPP\")"
   ]
  },
  {
   "cell_type": "code",
   "execution_count": 39,
   "metadata": {},
   "outputs": [
    {
     "data": {
      "text/plain": [
       "ClusterID\n",
       "0    37\n",
       "1    95\n",
       "2    23\n",
       "3     7\n",
       "Name: ClusterID, dtype: int64"
      ]
     },
     "execution_count": 39,
     "metadata": {},
     "output_type": "execute_result"
    }
   ],
   "source": [
    "#finding no of countries in each cluster\n",
    "cluster_count_km=RFM_km.groupby(RFM_km['ClusterID'])['ClusterID'].count()\n",
    "cluster_count_km"
   ]
  },
  {
   "cell_type": "code",
   "execution_count": 40,
   "metadata": {},
   "outputs": [],
   "source": [
    "countries=RFM_km.loc[RFM_km['ClusterID']==1]"
   ]
  },
  {
   "cell_type": "code",
   "execution_count": 91,
   "metadata": {},
   "outputs": [
    {
     "data": {
      "text/html": [
       "<div>\n",
       "<style scoped>\n",
       "    .dataframe tbody tr th:only-of-type {\n",
       "        vertical-align: middle;\n",
       "    }\n",
       "\n",
       "    .dataframe tbody tr th {\n",
       "        vertical-align: top;\n",
       "    }\n",
       "\n",
       "    .dataframe thead th {\n",
       "        text-align: right;\n",
       "    }\n",
       "</style>\n",
       "<table border=\"1\" class=\"dataframe\">\n",
       "  <thead>\n",
       "    <tr style=\"text-align: right;\">\n",
       "      <th></th>\n",
       "      <th>country</th>\n",
       "      <th>child_mort</th>\n",
       "      <th>exports</th>\n",
       "      <th>health</th>\n",
       "      <th>imports</th>\n",
       "      <th>income</th>\n",
       "      <th>inflation</th>\n",
       "      <th>life_expec</th>\n",
       "      <th>total_fer</th>\n",
       "      <th>gdpp</th>\n",
       "      <th>ClusterID</th>\n",
       "    </tr>\n",
       "  </thead>\n",
       "  <tbody>\n",
       "    <tr>\n",
       "      <th>26</th>\n",
       "      <td>Burundi</td>\n",
       "      <td>93.6</td>\n",
       "      <td>8.92</td>\n",
       "      <td>11.60</td>\n",
       "      <td>39.2</td>\n",
       "      <td>764</td>\n",
       "      <td>12.30</td>\n",
       "      <td>57.7</td>\n",
       "      <td>6.26</td>\n",
       "      <td>231</td>\n",
       "      <td>1</td>\n",
       "    </tr>\n",
       "    <tr>\n",
       "      <th>88</th>\n",
       "      <td>Liberia</td>\n",
       "      <td>89.3</td>\n",
       "      <td>19.10</td>\n",
       "      <td>11.80</td>\n",
       "      <td>92.6</td>\n",
       "      <td>700</td>\n",
       "      <td>5.47</td>\n",
       "      <td>60.8</td>\n",
       "      <td>5.02</td>\n",
       "      <td>327</td>\n",
       "      <td>1</td>\n",
       "    </tr>\n",
       "    <tr>\n",
       "      <th>37</th>\n",
       "      <td>Congo, Dem. Rep.</td>\n",
       "      <td>116.0</td>\n",
       "      <td>41.10</td>\n",
       "      <td>7.91</td>\n",
       "      <td>49.6</td>\n",
       "      <td>609</td>\n",
       "      <td>20.80</td>\n",
       "      <td>57.5</td>\n",
       "      <td>6.54</td>\n",
       "      <td>334</td>\n",
       "      <td>1</td>\n",
       "    </tr>\n",
       "    <tr>\n",
       "      <th>110</th>\n",
       "      <td>Niger</td>\n",
       "      <td>123.0</td>\n",
       "      <td>22.20</td>\n",
       "      <td>5.16</td>\n",
       "      <td>49.1</td>\n",
       "      <td>814</td>\n",
       "      <td>2.55</td>\n",
       "      <td>58.8</td>\n",
       "      <td>7.49</td>\n",
       "      <td>348</td>\n",
       "      <td>1</td>\n",
       "    </tr>\n",
       "    <tr>\n",
       "      <th>128</th>\n",
       "      <td>Sierra Leone</td>\n",
       "      <td>160.0</td>\n",
       "      <td>16.80</td>\n",
       "      <td>13.10</td>\n",
       "      <td>34.5</td>\n",
       "      <td>1220</td>\n",
       "      <td>17.20</td>\n",
       "      <td>55.0</td>\n",
       "      <td>5.20</td>\n",
       "      <td>399</td>\n",
       "      <td>1</td>\n",
       "    </tr>\n",
       "    <tr>\n",
       "      <th>104</th>\n",
       "      <td>Mozambique</td>\n",
       "      <td>101.0</td>\n",
       "      <td>31.50</td>\n",
       "      <td>5.21</td>\n",
       "      <td>46.2</td>\n",
       "      <td>918</td>\n",
       "      <td>7.64</td>\n",
       "      <td>54.5</td>\n",
       "      <td>5.56</td>\n",
       "      <td>419</td>\n",
       "      <td>1</td>\n",
       "    </tr>\n",
       "    <tr>\n",
       "      <th>31</th>\n",
       "      <td>Central African Republic</td>\n",
       "      <td>149.0</td>\n",
       "      <td>11.80</td>\n",
       "      <td>3.98</td>\n",
       "      <td>26.5</td>\n",
       "      <td>888</td>\n",
       "      <td>2.01</td>\n",
       "      <td>47.5</td>\n",
       "      <td>5.21</td>\n",
       "      <td>446</td>\n",
       "      <td>1</td>\n",
       "    </tr>\n",
       "    <tr>\n",
       "      <th>93</th>\n",
       "      <td>Malawi</td>\n",
       "      <td>90.5</td>\n",
       "      <td>22.80</td>\n",
       "      <td>6.59</td>\n",
       "      <td>34.9</td>\n",
       "      <td>1030</td>\n",
       "      <td>12.10</td>\n",
       "      <td>53.1</td>\n",
       "      <td>5.31</td>\n",
       "      <td>459</td>\n",
       "      <td>1</td>\n",
       "    </tr>\n",
       "    <tr>\n",
       "      <th>145</th>\n",
       "      <td>Togo</td>\n",
       "      <td>90.3</td>\n",
       "      <td>40.20</td>\n",
       "      <td>7.65</td>\n",
       "      <td>57.3</td>\n",
       "      <td>1210</td>\n",
       "      <td>1.18</td>\n",
       "      <td>58.7</td>\n",
       "      <td>4.87</td>\n",
       "      <td>488</td>\n",
       "      <td>1</td>\n",
       "    </tr>\n",
       "    <tr>\n",
       "      <th>64</th>\n",
       "      <td>Guinea-Bissau</td>\n",
       "      <td>114.0</td>\n",
       "      <td>14.90</td>\n",
       "      <td>8.50</td>\n",
       "      <td>35.2</td>\n",
       "      <td>1390</td>\n",
       "      <td>2.97</td>\n",
       "      <td>55.6</td>\n",
       "      <td>5.05</td>\n",
       "      <td>547</td>\n",
       "      <td>1</td>\n",
       "    </tr>\n",
       "  </tbody>\n",
       "</table>\n",
       "</div>"
      ],
      "text/plain": [
       "                      country  child_mort  exports  health  imports  income  \\\n",
       "26                    Burundi        93.6     8.92   11.60     39.2     764   \n",
       "88                    Liberia        89.3    19.10   11.80     92.6     700   \n",
       "37           Congo, Dem. Rep.       116.0    41.10    7.91     49.6     609   \n",
       "110                     Niger       123.0    22.20    5.16     49.1     814   \n",
       "128              Sierra Leone       160.0    16.80   13.10     34.5    1220   \n",
       "104                Mozambique       101.0    31.50    5.21     46.2     918   \n",
       "31   Central African Republic       149.0    11.80    3.98     26.5     888   \n",
       "93                     Malawi        90.5    22.80    6.59     34.9    1030   \n",
       "145                      Togo        90.3    40.20    7.65     57.3    1210   \n",
       "64              Guinea-Bissau       114.0    14.90    8.50     35.2    1390   \n",
       "\n",
       "     inflation  life_expec  total_fer  gdpp  ClusterID  \n",
       "26       12.30        57.7       6.26   231          1  \n",
       "88        5.47        60.8       5.02   327          1  \n",
       "37       20.80        57.5       6.54   334          1  \n",
       "110       2.55        58.8       7.49   348          1  \n",
       "128      17.20        55.0       5.20   399          1  \n",
       "104       7.64        54.5       5.56   419          1  \n",
       "31        2.01        47.5       5.21   446          1  \n",
       "93       12.10        53.1       5.31   459          1  \n",
       "145       1.18        58.7       4.87   488          1  \n",
       "64        2.97        55.6       5.05   547          1  "
      ]
     },
     "execution_count": 91,
     "metadata": {},
     "output_type": "execute_result"
    }
   ],
   "source": [
    "countries.sort_values(by=['gdpp','income']).head(10)"
   ]
  },
  {
   "cell_type": "markdown",
   "metadata": {},
   "source": [
    "### Hierarchical Clustering"
   ]
  },
  {
   "cell_type": "code",
   "execution_count": 92,
   "metadata": {},
   "outputs": [
    {
     "data": {
      "image/png": "[encoded data removed]",
      "text/plain": [
       "<Figure size 432x288 with 1 Axes>"
      ]
     },
     "metadata": {},
     "output_type": "display_data"
    }
   ],
   "source": [
    "# heirarchical clustering\n",
    "mergings = linkage(new_df2, method = \"single\", metric='euclidean')\n",
    "dendrogram(mergings)\n",
    "plt.show()"
   ]
  },
  {
   "cell_type": "markdown",
   "metadata": {},
   "source": [
    "#  \n",
    "Based on the dendogram, we take no of clusters to be 4"
   ]
  },
  {
   "cell_type": "code",
   "execution_count": 47,
   "metadata": {},
   "outputs": [
    {
     "ename": "NameError",
     "evalue": "name 'mergings' is not defined",
     "output_type": "error",
     "traceback": [
      "\u001b[0;31m---------------------------------------------------------------------------\u001b[0m",
      "\u001b[0;31mNameError\u001b[0m                                 Traceback (most recent call last)",
      "\u001b[0;32m<ipython-input-47-74b5fccd4499>\u001b[0m in \u001b[0;36m<module>\u001b[0;34m()\u001b[0m\n\u001b[0;32m----> 1\u001b[0;31m \u001b[0mclusterCut\u001b[0m \u001b[0;34m=\u001b[0m \u001b[0mpd\u001b[0m\u001b[0;34m.\u001b[0m\u001b[0mSeries\u001b[0m\u001b[0;34m(\u001b[0m\u001b[0mcut_tree\u001b[0m\u001b[0;34m(\u001b[0m\u001b[0mmergings\u001b[0m\u001b[0;34m,\u001b[0m \u001b[0mn_clusters\u001b[0m \u001b[0;34m=\u001b[0m \u001b[0;36m7\u001b[0m\u001b[0;34m)\u001b[0m\u001b[0;34m.\u001b[0m\u001b[0mreshape\u001b[0m\u001b[0;34m(\u001b[0m\u001b[0;34m-\u001b[0m\u001b[0;36m1\u001b[0m\u001b[0;34m,\u001b[0m\u001b[0;34m)\u001b[0m\u001b[0;34m)\u001b[0m\u001b[0;34m\u001b[0m\u001b[0m\n\u001b[0m\u001b[1;32m      2\u001b[0m \u001b[0mdf_hc\u001b[0m \u001b[0;34m=\u001b[0m \u001b[0mpd\u001b[0m\u001b[0;34m.\u001b[0m\u001b[0mconcat\u001b[0m\u001b[0;34m(\u001b[0m\u001b[0;34m[\u001b[0m\u001b[0mdf\u001b[0m\u001b[0;34m,\u001b[0m \u001b[0mclusterCut\u001b[0m\u001b[0;34m]\u001b[0m\u001b[0;34m,\u001b[0m \u001b[0maxis\u001b[0m\u001b[0;34m=\u001b[0m\u001b[0;36m1\u001b[0m\u001b[0;34m)\u001b[0m\u001b[0;34m\u001b[0m\u001b[0m\n\u001b[1;32m      3\u001b[0m \u001b[0mdf_hc\u001b[0m\u001b[0;34m.\u001b[0m\u001b[0mcolumns\u001b[0m \u001b[0;34m=\u001b[0m \u001b[0;34m[\u001b[0m\u001b[0;34m'country'\u001b[0m\u001b[0;34m,\u001b[0m\u001b[0;34m'child_mort'\u001b[0m\u001b[0;34m,\u001b[0m\u001b[0;34m'exports'\u001b[0m\u001b[0;34m,\u001b[0m\u001b[0;34m'health'\u001b[0m\u001b[0;34m,\u001b[0m\u001b[0;34m'imports'\u001b[0m\u001b[0;34m,\u001b[0m\u001b[0;34m'income'\u001b[0m\u001b[0;34m,\u001b[0m\u001b[0;34m'inflation'\u001b[0m\u001b[0;34m,\u001b[0m\u001b[0;34m'life_expec'\u001b[0m\u001b[0;34m,\u001b[0m\u001b[0;34m'total_fer'\u001b[0m\u001b[0;34m,\u001b[0m\u001b[0;34m'gdpp'\u001b[0m\u001b[0;34m,\u001b[0m \u001b[0;34m'ClusterID'\u001b[0m\u001b[0;34m]\u001b[0m\u001b[0;34m\u001b[0m\u001b[0m\n",
      "\u001b[0;31mNameError\u001b[0m: name 'mergings' is not defined"
     ]
    }
   ],
   "source": [
    "clusterCut = pd.Series(cut_tree(mergings, n_clusters = 7).reshape(-1,))\n",
    "df_hc = pd.concat([df, clusterCut], axis=1)\n",
    "df_hc.columns = ['country','child_mort','exports','health','imports','income','inflation','life_expec','total_fer','gdpp', 'ClusterID']\n"
   ]
  },
  {
   "cell_type": "code",
   "execution_count": 48,
   "metadata": {},
   "outputs": [
    {
     "ename": "NameError",
     "evalue": "name 'df_hc' is not defined",
     "output_type": "error",
     "traceback": [
      "\u001b[0;31m---------------------------------------------------------------------------\u001b[0m",
      "\u001b[0;31mNameError\u001b[0m                                 Traceback (most recent call last)",
      "\u001b[0;32m<ipython-input-48-14293abfcdf1>\u001b[0m in \u001b[0;36m<module>\u001b[0;34m()\u001b[0m\n\u001b[1;32m      1\u001b[0m \u001b[0;31m#Cluster analysis\u001b[0m\u001b[0;34m\u001b[0m\u001b[0;34m\u001b[0m\u001b[0m\n\u001b[0;32m----> 2\u001b[0;31m \u001b[0mkm_clusters_childm\u001b[0m \u001b[0;34m=\u001b[0m    \u001b[0mpd\u001b[0m\u001b[0;34m.\u001b[0m\u001b[0mDataFrame\u001b[0m\u001b[0;34m(\u001b[0m\u001b[0mdf_hc\u001b[0m\u001b[0;34m.\u001b[0m\u001b[0mgroupby\u001b[0m\u001b[0;34m(\u001b[0m\u001b[0;34m[\u001b[0m\u001b[0;34m\"ClusterID\"\u001b[0m\u001b[0;34m]\u001b[0m\u001b[0;34m)\u001b[0m\u001b[0;34m.\u001b[0m\u001b[0mchild_mort\u001b[0m\u001b[0;34m.\u001b[0m\u001b[0mmean\u001b[0m\u001b[0;34m(\u001b[0m\u001b[0;34m)\u001b[0m\u001b[0;34m)\u001b[0m\u001b[0;34m\u001b[0m\u001b[0m\n\u001b[0m\u001b[1;32m      3\u001b[0m \u001b[0mkm_clusters_exp\u001b[0m \u001b[0;34m=\u001b[0m       \u001b[0mpd\u001b[0m\u001b[0;34m.\u001b[0m\u001b[0mDataFrame\u001b[0m\u001b[0;34m(\u001b[0m\u001b[0mdf_hc\u001b[0m\u001b[0;34m.\u001b[0m\u001b[0mgroupby\u001b[0m\u001b[0;34m(\u001b[0m\u001b[0;34m[\u001b[0m\u001b[0;34m\"ClusterID\"\u001b[0m\u001b[0;34m]\u001b[0m\u001b[0;34m)\u001b[0m\u001b[0;34m.\u001b[0m\u001b[0mexports\u001b[0m\u001b[0;34m.\u001b[0m\u001b[0mmean\u001b[0m\u001b[0;34m(\u001b[0m\u001b[0;34m)\u001b[0m\u001b[0;34m)\u001b[0m\u001b[0;34m\u001b[0m\u001b[0m\n\u001b[1;32m      4\u001b[0m \u001b[0mkm_clusters_imp\u001b[0m\u001b[0;34m=\u001b[0m        \u001b[0mpd\u001b[0m\u001b[0;34m.\u001b[0m\u001b[0mDataFrame\u001b[0m\u001b[0;34m(\u001b[0m\u001b[0mdf_hc\u001b[0m\u001b[0;34m.\u001b[0m\u001b[0mgroupby\u001b[0m\u001b[0;34m(\u001b[0m\u001b[0;34m[\u001b[0m\u001b[0;34m\"ClusterID\"\u001b[0m\u001b[0;34m]\u001b[0m\u001b[0;34m)\u001b[0m\u001b[0;34m.\u001b[0m\u001b[0mimports\u001b[0m\u001b[0;34m.\u001b[0m\u001b[0mmean\u001b[0m\u001b[0;34m(\u001b[0m\u001b[0;34m)\u001b[0m\u001b[0;34m)\u001b[0m\u001b[0;34m\u001b[0m\u001b[0m\n\u001b[1;32m      5\u001b[0m \u001b[0;34m\u001b[0m\u001b[0m\n",
      "\u001b[0;31mNameError\u001b[0m: name 'df_hc' is not defined"
     ]
    }
   ],
   "source": [
    "#Cluster analysis\n",
    "km_clusters_childm = \tpd.DataFrame(df_hc.groupby([\"ClusterID\"]).child_mort.mean())\n",
    "km_clusters_exp = \tpd.DataFrame(df_hc.groupby([\"ClusterID\"]).exports.mean())\n",
    "km_clusters_imp= \tpd.DataFrame(df_hc.groupby([\"ClusterID\"]).imports.mean())\n",
    "\n",
    "km_clusters_health = \tpd.DataFrame(df_hc.groupby([\"ClusterID\"]).health.mean())\n",
    "km_clusters_inc = \tpd.DataFrame(df_hc.groupby([\"ClusterID\"]).income.mean())\n",
    "km_clusters_inf= \tpd.DataFrame(df_hc.groupby([\"ClusterID\"]).inflation.mean())\n",
    "\n",
    "km_clusters_life_exp = \tpd.DataFrame(df_hc.groupby([\"ClusterID\"]).life_expec.mean())\n",
    "km_clusters_fer = \tpd.DataFrame(df_hc.groupby([\"ClusterID\"]).total_fer.mean())\n",
    "km_clusters_gdpp= \tpd.DataFrame(df_hc.groupby([\"ClusterID\"]).gdpp.mean())"
   ]
  },
  {
   "cell_type": "code",
   "execution_count": 49,
   "metadata": {},
   "outputs": [
    {
     "data": {
      "text/html": [
       "<div>\n",
       "<style scoped>\n",
       "    .dataframe tbody tr th:only-of-type {\n",
       "        vertical-align: middle;\n",
       "    }\n",
       "\n",
       "    .dataframe tbody tr th {\n",
       "        vertical-align: top;\n",
       "    }\n",
       "\n",
       "    .dataframe thead th {\n",
       "        text-align: right;\n",
       "    }\n",
       "</style>\n",
       "<table border=\"1\" class=\"dataframe\">\n",
       "  <thead>\n",
       "    <tr style=\"text-align: right;\">\n",
       "      <th></th>\n",
       "      <th>ClusterID</th>\n",
       "      <th>Child_Mortality_mean</th>\n",
       "      <th>Exports_mean</th>\n",
       "      <th>Imports_mean</th>\n",
       "      <th>Health_mean</th>\n",
       "      <th>Income_mean</th>\n",
       "      <th>Inflation_mean</th>\n",
       "      <th>Life_expectancy_mean</th>\n",
       "      <th>Total_Fertility_mean</th>\n",
       "      <th>GDPP_mean</th>\n",
       "    </tr>\n",
       "  </thead>\n",
       "  <tbody>\n",
       "    <tr>\n",
       "      <th>0</th>\n",
       "      <td>0</td>\n",
       "      <td>101.648649</td>\n",
       "      <td>25.571054</td>\n",
       "      <td>40.215295</td>\n",
       "      <td>6.356757</td>\n",
       "      <td>2490.891892</td>\n",
       "      <td>11.982027</td>\n",
       "      <td>58.827027</td>\n",
       "      <td>5.186757</td>\n",
       "      <td>1176.162162</td>\n",
       "    </tr>\n",
       "    <tr>\n",
       "      <th>1</th>\n",
       "      <td>1</td>\n",
       "      <td>24.415789</td>\n",
       "      <td>40.571263</td>\n",
       "      <td>48.414737</td>\n",
       "      <td>6.426526</td>\n",
       "      <td>11782.105263</td>\n",
       "      <td>7.417158</td>\n",
       "      <td>71.874737</td>\n",
       "      <td>2.436842</td>\n",
       "      <td>6446.273684</td>\n",
       "    </tr>\n",
       "    <tr>\n",
       "      <th>2</th>\n",
       "      <td>2</td>\n",
       "      <td>4.743478</td>\n",
       "      <td>41.408696</td>\n",
       "      <td>39.782609</td>\n",
       "      <td>10.225652</td>\n",
       "      <td>38843.478261</td>\n",
       "      <td>1.118565</td>\n",
       "      <td>80.582609</td>\n",
       "      <td>1.808261</td>\n",
       "      <td>43178.260870</td>\n",
       "    </tr>\n",
       "    <tr>\n",
       "      <th>3</th>\n",
       "      <td>3</td>\n",
       "      <td>25.271429</td>\n",
       "      <td>68.914286</td>\n",
       "      <td>43.714286</td>\n",
       "      <td>3.662857</td>\n",
       "      <td>54128.571429</td>\n",
       "      <td>15.077143</td>\n",
       "      <td>74.271429</td>\n",
       "      <td>2.735714</td>\n",
       "      <td>26457.142857</td>\n",
       "    </tr>\n",
       "  </tbody>\n",
       "</table>\n",
       "</div>"
      ],
      "text/plain": [
       "   ClusterID  Child_Mortality_mean  Exports_mean  Imports_mean  Health_mean  \\\n",
       "0          0            101.648649     25.571054     40.215295     6.356757   \n",
       "1          1             24.415789     40.571263     48.414737     6.426526   \n",
       "2          2              4.743478     41.408696     39.782609    10.225652   \n",
       "3          3             25.271429     68.914286     43.714286     3.662857   \n",
       "\n",
       "    Income_mean  Inflation_mean  Life_expectancy_mean  Total_Fertility_mean  \\\n",
       "0   2490.891892       11.982027             58.827027              5.186757   \n",
       "1  11782.105263        7.417158             71.874737              2.436842   \n",
       "2  38843.478261        1.118565             80.582609              1.808261   \n",
       "3  54128.571429       15.077143             74.271429              2.735714   \n",
       "\n",
       "      GDPP_mean  \n",
       "0   1176.162162  \n",
       "1   6446.273684  \n",
       "2  43178.260870  \n",
       "3  26457.142857  "
      ]
     },
     "execution_count": 49,
     "metadata": {},
     "output_type": "execute_result"
    }
   ],
   "source": [
    "df_hc1 = pd.concat([pd.Series([0,1,2,3]), km_clusters_childm, km_clusters_exp, km_clusters_imp,km_clusters_health,km_clusters_inc,km_clusters_inf,km_clusters_life_exp,km_clusters_fer,km_clusters_gdpp], axis=1)\n",
    "df_hc1.columns = [\"ClusterID\",\"Child_Mortality_mean\", \"Exports_mean\", \"Imports_mean\",\"Health_mean\",\"Income_mean\",'Inflation_mean','Life_expectancy_mean','Total_Fertility_mean','GDPP_mean']\n",
    "df_hc1.head()"
   ]
  },
  {
   "cell_type": "code",
   "execution_count": 97,
   "metadata": {},
   "outputs": [
    {
     "data": {
      "text/plain": [
       "Text(0.5, 1.0, 'Mean GDPP')"
      ]
     },
     "execution_count": 97,
     "metadata": {},
     "output_type": "execute_result"
    },
    {
     "data": {
      "image/png": "[encoded data removed]",
      "text/plain": [
       "<Figure size 1440x1080 with 9 Axes>"
      ]
     },
     "metadata": {},
     "output_type": "display_data"
    }
   ],
   "source": [
    "#Plotting the bar graph of the mean of each feature for all the clusters\n",
    "plt.figure(figsize=(20,15))\n",
    "plt.subplot(331)\n",
    "sns.barplot(x=df_hc1.ClusterID, y=df_hc1['Child_Mortality_mean'])\n",
    "plt.title(\"Mean Child Mortality\")\n",
    "\n",
    "plt.subplot(332)\n",
    "sns.barplot(x=df_hc1.ClusterID, y=df_hc1['Exports_mean'])\n",
    "plt.title(\"Mean Exports\")\n",
    "\n",
    "plt.subplot(333)\n",
    "sns.barplot(x=df_hc1.ClusterID, y=df_hc1['Imports_mean'])\n",
    "plt.title(\"Mean Imports\")\n",
    "\n",
    "plt.subplot(334)\n",
    "sns.barplot(x=df_hc1.ClusterID, y=df_hc1['Health_mean'])\n",
    "plt.title(\"Mean Health\")\n",
    "\n",
    "plt.subplot(335)\n",
    "sns.barplot(x=df_hc1.ClusterID, y=df_hc1['Income_mean'])\n",
    "plt.title(\"Mean Income\")\n",
    "\n",
    "plt.subplot(336)\n",
    "sns.barplot(x=df_hc1.ClusterID, y=df_hc1['Inflation_mean'])\n",
    "plt.title(\"Mean Inflation\")\n",
    "\n",
    "plt.subplot(337)\n",
    "sns.barplot(x=df_hc1.ClusterID, y=df_hc1['Life_expectancy_mean'])\n",
    "plt.title(\"Mean Life Expectancy\")\n",
    "\n",
    "plt.subplot(338)\n",
    "sns.barplot(x=df_hc1.ClusterID, y=df_hc1['Total_Fertility_mean'])\n",
    "plt.title(\"Mean Total Fertility\")\n",
    "\n",
    "plt.subplot(339)\n",
    "sns.barplot(x=df_hc1.ClusterID, y=df_hc1['GDPP_mean'])\n",
    "plt.title(\"Mean GDPP\")"
   ]
  },
  {
   "cell_type": "code",
   "execution_count": 98,
   "metadata": {},
   "outputs": [
    {
     "data": {
      "text/plain": [
       "ClusterID\n",
       "0    138\n",
       "1     15\n",
       "2      7\n",
       "3      2\n",
       "Name: ClusterID, dtype: int64"
      ]
     },
     "execution_count": 98,
     "metadata": {},
     "output_type": "execute_result"
    }
   ],
   "source": [
    "#finding no of countries in each cluster\n",
    "cluster_count=df_hc.groupby(df_hc['ClusterID'])['ClusterID'].count()\n",
    "cluster_count"
   ]
  },
  {
   "cell_type": "code",
   "execution_count": 99,
   "metadata": {},
   "outputs": [],
   "source": [
    "countries=df_hc.loc[df_hc['ClusterID']==1]"
   ]
  },
  {
   "cell_type": "code",
   "execution_count": 46,
   "metadata": {},
   "outputs": [
    {
     "data": {
      "text/html": [
       "<div>\n",
       "<style scoped>\n",
       "    .dataframe tbody tr th:only-of-type {\n",
       "        vertical-align: middle;\n",
       "    }\n",
       "\n",
       "    .dataframe tbody tr th {\n",
       "        vertical-align: top;\n",
       "    }\n",
       "\n",
       "    .dataframe thead th {\n",
       "        text-align: right;\n",
       "    }\n",
       "</style>\n",
       "<table border=\"1\" class=\"dataframe\">\n",
       "  <thead>\n",
       "    <tr style=\"text-align: right;\">\n",
       "      <th></th>\n",
       "      <th>country</th>\n",
       "      <th>child_mort</th>\n",
       "      <th>exports</th>\n",
       "      <th>health</th>\n",
       "      <th>imports</th>\n",
       "      <th>income</th>\n",
       "      <th>inflation</th>\n",
       "      <th>life_expec</th>\n",
       "      <th>total_fer</th>\n",
       "      <th>gdpp</th>\n",
       "      <th>ClusterID</th>\n",
       "    </tr>\n",
       "  </thead>\n",
       "  <tbody>\n",
       "    <tr>\n",
       "      <th>38</th>\n",
       "      <td>Congo, Rep.</td>\n",
       "      <td>63.9</td>\n",
       "      <td>85.1</td>\n",
       "      <td>2.46</td>\n",
       "      <td>54.7</td>\n",
       "      <td>5190</td>\n",
       "      <td>20.70</td>\n",
       "      <td>60.4</td>\n",
       "      <td>4.95</td>\n",
       "      <td>2740</td>\n",
       "      <td>1</td>\n",
       "    </tr>\n",
       "    <tr>\n",
       "      <th>81</th>\n",
       "      <td>Kiribati</td>\n",
       "      <td>62.7</td>\n",
       "      <td>13.3</td>\n",
       "      <td>11.30</td>\n",
       "      <td>79.9</td>\n",
       "      <td>1730</td>\n",
       "      <td>1.52</td>\n",
       "      <td>60.7</td>\n",
       "      <td>3.84</td>\n",
       "      <td>1490</td>\n",
       "      <td>1</td>\n",
       "    </tr>\n",
       "    <tr>\n",
       "      <th>80</th>\n",
       "      <td>Kenya</td>\n",
       "      <td>62.2</td>\n",
       "      <td>20.7</td>\n",
       "      <td>4.75</td>\n",
       "      <td>33.6</td>\n",
       "      <td>2480</td>\n",
       "      <td>2.09</td>\n",
       "      <td>62.8</td>\n",
       "      <td>4.37</td>\n",
       "      <td>967</td>\n",
       "      <td>1</td>\n",
       "    </tr>\n",
       "    <tr>\n",
       "      <th>92</th>\n",
       "      <td>Madagascar</td>\n",
       "      <td>62.2</td>\n",
       "      <td>25.0</td>\n",
       "      <td>3.77</td>\n",
       "      <td>43.0</td>\n",
       "      <td>1390</td>\n",
       "      <td>8.79</td>\n",
       "      <td>60.8</td>\n",
       "      <td>4.60</td>\n",
       "      <td>413</td>\n",
       "      <td>1</td>\n",
       "    </tr>\n",
       "    <tr>\n",
       "      <th>149</th>\n",
       "      <td>Turkmenistan</td>\n",
       "      <td>62.0</td>\n",
       "      <td>76.3</td>\n",
       "      <td>2.50</td>\n",
       "      <td>44.5</td>\n",
       "      <td>9940</td>\n",
       "      <td>2.31</td>\n",
       "      <td>67.9</td>\n",
       "      <td>2.83</td>\n",
       "      <td>4440</td>\n",
       "      <td>1</td>\n",
       "    </tr>\n",
       "  </tbody>\n",
       "</table>\n",
       "</div>"
      ],
      "text/plain": [
       "          country  child_mort  exports  health  imports  income  inflation  \\\n",
       "38    Congo, Rep.        63.9     85.1    2.46     54.7    5190      20.70   \n",
       "81       Kiribati        62.7     13.3   11.30     79.9    1730       1.52   \n",
       "80          Kenya        62.2     20.7    4.75     33.6    2480       2.09   \n",
       "92     Madagascar        62.2     25.0    3.77     43.0    1390       8.79   \n",
       "149  Turkmenistan        62.0     76.3    2.50     44.5    9940       2.31   \n",
       "\n",
       "     life_expec  total_fer  gdpp  ClusterID  \n",
       "38         60.4       4.95  2740          1  \n",
       "81         60.7       3.84  1490          1  \n",
       "80         62.8       4.37   967          1  \n",
       "92         60.8       4.60   413          1  \n",
       "149        67.9       2.83  4440          1  "
      ]
     },
     "execution_count": 46,
     "metadata": {},
     "output_type": "execute_result"
    }
   ],
   "source": [
    "c_set2=countries.sort_values(by=['child_mort'],ascending=False).head(5)\n",
    "c_set2"
   ]
  },
  {
   "cell_type": "code",
   "execution_count": null,
   "metadata": {},
   "outputs": [],
   "source": []
  }
 ],
 "metadata": {
  "kernelspec": {
   "display_name": "Python 3",
   "language": "python",
   "name": "python3"
  },
  "language_info": {
   "codemirror_mode": {
    "name": "ipython",
    "version": 3
   },
   "file_extension": ".py",
   "mimetype": "text/x-python",
   "name": "python",
   "nbconvert_exporter": "python",
   "pygments_lexer": "ipython3",
   "version": "3.7.3"
  }
 },
 "nbformat": 4,
 "nbformat_minor": 2
}
